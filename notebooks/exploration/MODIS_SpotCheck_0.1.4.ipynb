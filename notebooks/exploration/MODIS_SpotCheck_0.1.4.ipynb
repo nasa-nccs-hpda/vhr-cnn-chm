{
 "cells": [
  {
   "cell_type": "markdown",
   "metadata": {},
   "source": [
    "# MODIS Water Classification Spot Check\n",
    "\n",
    "Version: 0.1.4\n",
    "\n",
    "Date: 02.01.22"
   ]
  },
  {
   "cell_type": "code",
   "execution_count": null,
   "metadata": {},
   "outputs": [],
   "source": [
    "import folium\n",
    "from folium import plugins\n",
    "import glob\n",
    "import numpy as np\n",
    "import os\n",
    "import rasterio as rio\n",
    "import tempfile\n",
    "\n",
    "from rasterio.warp import calculate_default_transform, reproject, Resampling\n",
    "from pyproj import Transformer "
   ]
  },
  {
   "cell_type": "code",
   "execution_count": null,
   "metadata": {},
   "outputs": [],
   "source": [
    "year = 2020\n",
    "tile = 'h11v02'\n",
    "modelType = 'Caleb'\n",
    "month= 'AnnualMap'"
   ]
  },
  {
   "cell_type": "markdown",
   "metadata": {},
   "source": [
    "## Find the correct data and get the paths\n",
    "\n",
    "In this case we're looking for four products:\n",
    "1. Annual Water Mask output from a model (random forest, classic, etc).\n",
    "2. Annual water probability output from a model as well.\n",
    "3. Annual summation of land output from a model.\n",
    "4. DEM (digital elevation map) for the corresponding tile.\n",
    "5. Annual burn scar mask.\n",
    "\n",
    "The annual burn scar is an unoffical product derived from the 16 day product MCD64A1. "
   ]
  },
  {
   "cell_type": "code",
   "execution_count": null,
   "metadata": {},
   "outputs": [],
   "source": [
    "product_path = \"/att/nobackup/zwwillia/MODIS_water/model_outputs/{0}/{1}/{2}/{3}/\".format(modelType,year,tile,month)\n",
    "gmted_path = '/adapt/nobackup/projects/ilab/scratch/mcarrol2/data/GMTED-MODIS/MODIS_tiles'\n",
    "burn_scar_path = '/att/nobackup/cssprad1/projects/modis_water/data/burn_scar_products/MCD64A1-BurnArea-Annual/{}'.format(year)\n",
    "\n",
    "# The glob module is used to find a list of files that match a certain pattern.\n",
    "annual_mask_product = glob.glob(os.path.join(product_path, '*RandomForest-Mask.tif'))[0]\n",
    "annual_probWater_product = glob.glob(os.path.join(product_path, '*RandomForest-ProbWater.tif'))[0]\n",
    "annual_sumLand_product = glob.glob(os.path.join(product_path, '*RandomForest-SumLand.tif'))[0]\n",
    "annual_burn_scar_product = glob.glob(os.path.join(burn_scar_path, 'MCD64A1-BurnArea_Annual_A2020.{}.tif'.format(tile)))[0]\n",
    "gmted = glob.glob(os.path.join(gmted_path, 'GMTED.{}.med.tif'.format(tile)))[0]\n",
    "\n",
    "print('Found {}'.format(annual_mask_product))\n",
    "print('Found {}'.format(annual_probWater_product))\n",
    "print('Found {}'.format(annual_sumLand_product))\n",
    "print('Found {}'.format(annual_burn_scar_product))\n",
    "print('Found {}'.format(gmted))"
   ]
  },
  {
   "cell_type": "code",
   "execution_count": null,
   "metadata": {},
   "outputs": [],
   "source": [
    "# -----------------------------------------------------------------------------\n",
    "# Uses rasterio to open a raster, get the metadata and crs\n",
    "# associated with it and get all the subdatasets in the file.\n",
    "# This is very useful for hdf files such as MODIS hdfs.\n",
    "# -----------------------------------------------------------------------------\n",
    "def print_subdatasets(filename):\n",
    "    bands_to_return = []\n",
    "    with rio.open(filename) as dataset:\n",
    "        meta_data = dataset.meta\n",
    "        crs = dataset.read_crs()\n",
    "        \n",
    "        print([name for name in dataset.subdatasets if search_term in name])\n",
    "\n",
    "# -----------------------------------------------------------------------------\n",
    "# Gets a tiff that has the correct metadata for that tile, gets the metadata\n",
    "# from the source tif and copies to a destination tiff. \n",
    "# -----------------------------------------------------------------------------     \n",
    "def add_metadata_to_annual_product(filepath, model_type, year, tile):\n",
    "    metadata_pull_src = [fv for fv in glob.glob(os.path.join(filepath, \"{}-1*-{}-MOD-*.tif\".format(year, tile)))][0]\n",
    "    with rio.open(metadata_pull_src) as src:\n",
    "        src_meta = src.meta\n",
    "    dst_tiffs = [os.path.join(filepath, fn) for fn in os.listdir(filepath) if \"{0}-{1}\".format(year, tile) in os.path.basename(fn)]\n",
    "    [copy_meta(dst_tiff, src_meta, metadata_pull_src) for dst_tiff in dst_tiffs]\n",
    "\n",
    "# -----------------------------------------------------------------------------\n",
    "# Given a path to a tiff with no metadata, assign the metadata given to that\n",
    "# tiff.\n",
    "# -----------------------------------------------------------------------------     \n",
    "def copy_meta(dst_path, src_meta, src_name):\n",
    "    print('Copying metadata from {} to {}'.format(src_name, dst_path))\n",
    "    with rio.open(dst_path, 'r+') as dst:\n",
    "        dst.crs = src_meta['crs']\n",
    "        dst.transform = src_meta['transform']        \n",
    "\n",
    "# -----------------------------------------------------------------------------\n",
    "# Given a tiff file as input, open the tiff and get the transform needed to\n",
    "# reproject from the tiff's source crs to the one we want (EPSG:3857).\n",
    "# For each band in the tiff, open then reproject it into the desired crs\n",
    "# then write to a temporary file. Return the path to the temp file.\n",
    "# -----------------------------------------------------------------------------\n",
    "def reproject_to_3857(input_tiff):\n",
    "    # Set desitnation CRS\n",
    "    dst_crs = f\"EPSG:3857\"\n",
    "\n",
    "    # set out path\n",
    "    out_path_rproj = os.path.join(tempfile.gettempdir(), input_tiff.split('/')[-1].replace('.tif','-3857.tif'))\n",
    "\n",
    "    with rio.open(input_tiff) as src:\n",
    "        # get src bounds and transform\n",
    "        transform, width, height = calculate_default_transform(src.crs, dst_crs, src.width, src.height, *src.bounds)\n",
    "        kwargs = src.meta.copy()\n",
    "        kwargs.update({'crs': dst_crs,\n",
    "                   'transform': transform,\n",
    "                   'width': width,\n",
    "                   'height': height})\n",
    "    \n",
    "        # reproject and write to file\n",
    "        with rio.open(out_path_rproj, 'w', **kwargs) as dst:\n",
    "            for i in range(1, src.count + 1):\n",
    "                reproject(source=rio.band(src, i),\n",
    "                      destination=rio.band(dst, i),\n",
    "                      src_transform=src.transform,\n",
    "                      src_crs=src.crs,\n",
    "                      dst_transform=transform,\n",
    "                      dst_crs=dst_crs,\n",
    "                      resampling=Resampling.nearest)\n",
    "    return out_path_rproj\n",
    "\n",
    "# -----------------------------------------------------------------------------\n",
    "# In order for folium to work properly we need to pass it the bounding box\n",
    "# of the tiff in the form of lat and lon. This is done by using rasterio.\n",
    "# -----------------------------------------------------------------------------\n",
    "def get_bounds(tiff_3857):\n",
    "    with rio.open(tiff_3857) as src:\n",
    "        src_crs = src.crs['init'].upper()\n",
    "        min_lon, min_lat, max_lon, max_lat = src.bounds\n",
    "    bounds_orig = [[min_lat, min_lon], [max_lat, max_lon]]\n",
    "    bounds = []\n",
    "    dst_crs = 'EPSG:4326'\n",
    "    for item in bounds_orig:   \n",
    "        #converting to lat/lon\n",
    "        lat = item[0]\n",
    "        lon = item[1]\n",
    "        proj = Transformer.from_crs(int(src_crs.split(\":\")[1]), int(dst_crs.split(\":\")[1]), always_xy=True)\n",
    "        lon_n, lat_n = proj.transform(lon, lat)\n",
    "        bounds.append([lat_n, lon_n])\n",
    "    center_lon = bounds[0][1] + (bounds[1][1] - bounds[0][1])/2\n",
    "    center_lat = bounds[0][0] + (bounds[1][0] - bounds[0][0])/2\n",
    "    return {'bounds': bounds, 'center': (center_lon, center_lat)}\n",
    "\n",
    "# -----------------------------------------------------------------------------\n",
    "# Use rasterio to open and read in the desired band name as a nd-array.\n",
    "# -----------------------------------------------------------------------------\n",
    "def open_and_get_band(file_name, band_num=1):\n",
    "    with rio.open(file_name) as data:\n",
    "        b = data.read(band_num)\n",
    "    return b\n",
    "\n",
    "# -----------------------------------------------------------------------------\n",
    "# Given an nd-array (band) and the bounds in lat lon of the nd-array, return\n",
    "# a folium layer. To add on the map.\n",
    "# -----------------------------------------------------------------------------\n",
    "def get_overlay(band, meta_dict, name, opacity=1.0, show=True):\n",
    "    return folium.raster_layers.ImageOverlay(band, \n",
    "                                             bounds=meta_dict['bounds'], \n",
    "                                             name=name, \n",
    "                                             opacity=opacity, \n",
    "                                             show=show)\n",
    "\n",
    "# -----------------------------------------------------------------------------\n",
    "# We don't need to keep those temp files we made for the reprojections around.\n",
    "# -----------------------------------------------------------------------------\n",
    "def cleanup(filename):\n",
    "    if os.path.exists(filename):\n",
    "        os.remove(filename)\n",
    "    else:\n",
    "        print('No file: {} exists.'.format(filename))"
   ]
  },
  {
   "cell_type": "markdown",
   "metadata": {},
   "source": [
    "### Add metadata from a tiff we know has the correct metadata for the tile to the product tiffs."
   ]
  },
  {
   "cell_type": "code",
   "execution_count": null,
   "metadata": {},
   "outputs": [],
   "source": [
    "add_metadata_to_annual_product(product_path, modelType, year, tile)"
   ]
  },
  {
   "cell_type": "markdown",
   "metadata": {},
   "source": [
    "### Reproject all of our layers into 3857 projection"
   ]
  },
  {
   "cell_type": "code",
   "execution_count": null,
   "metadata": {},
   "outputs": [],
   "source": [
    "mask_3857 = reproject_to_3857(annual_mask_product)\n",
    "probW_3857 = reproject_to_3857(annual_probWater_product)\n",
    "sumL_3857 = reproject_to_3857(annual_sumLand_product)\n",
    "bs_3857 = reproject_to_3857(annual_burn_scar_product)\n",
    "dem_3857 = reproject_to_3857(gmted)"
   ]
  },
  {
   "cell_type": "markdown",
   "metadata": {},
   "source": [
    "### Get all the bounding boxes for each product in lat,lon format."
   ]
  },
  {
   "cell_type": "code",
   "execution_count": null,
   "metadata": {},
   "outputs": [],
   "source": [
    "mask_d = get_bounds(mask_3857)\n",
    "probw_d = get_bounds(probW_3857)\n",
    "suml_d = get_bounds(sumL_3857)\n",
    "bs_d = get_bounds(bs_3857)\n",
    "dem_d = get_bounds(dem_3857)"
   ]
  },
  {
   "cell_type": "markdown",
   "metadata": {},
   "source": [
    "### Sanity check to make sure we're all working in the right part of the world..."
   ]
  },
  {
   "cell_type": "code",
   "execution_count": null,
   "metadata": {},
   "outputs": [],
   "source": [
    "from pprint import pprint\n",
    "\n",
    "print('Water Mask')\n",
    "pprint(mask_d)\n",
    "\n",
    "print('Prob Water')\n",
    "pprint(probw_d)\n",
    "\n",
    "print('Sum Land')\n",
    "pprint(suml_d)\n",
    "\n",
    "print('Burn Scar')\n",
    "pprint(bs_d)\n",
    "\n",
    "print('DEM')\n",
    "pprint(dem_d)"
   ]
  },
  {
   "cell_type": "code",
   "execution_count": null,
   "metadata": {},
   "outputs": [],
   "source": [
    "mask_b1 = open_and_get_band(mask_3857, 1)\n",
    "probw_b1 = open_and_get_band(probW_3857, 1)\n",
    "suml_b1 = open_and_get_band(sumL_3857, 1)\n",
    "bs_b1 = open_and_get_band(bs_3857, 1)\n",
    "gmted_b1 = open_and_get_band(dem_3857, 1)\n",
    "zeros = np.zeros_like(mask_b1)"
   ]
  },
  {
   "cell_type": "code",
   "execution_count": null,
   "metadata": {},
   "outputs": [],
   "source": [
    "mask_rgb = np.dstack((mask_b1, zeros, zeros))\n",
    "probw_rgb = np.dstack((zeros, zeros, probw_b1))\n",
    "suml_rgb = np.dstack((zeros, suml_b1, zeros))\n",
    "bs_rgb = np.dstack((bs_b1, np.zeros_like(bs_b1), bs_b1))\n",
    "gmted_rgb = np.dstack((zeros, gmted_b1, gmted_b1))"
   ]
  },
  {
   "cell_type": "markdown",
   "metadata": {},
   "source": [
    "Create a folium map that is centered on the location we want. Uses google base maps as the base map."
   ]
  },
  {
   "cell_type": "code",
   "execution_count": null,
   "metadata": {},
   "outputs": [],
   "source": [
    "m = folium.Map(location=[mask_d['center'][1], mask_d['center'][0]],\n",
    "                   tiles='https://mt1.google.com/vt/lyrs=s&x={x}&y={y}&z={z}', zoom_start = 6, attr='Google')"
   ]
  },
  {
   "cell_type": "markdown",
   "metadata": {},
   "source": [
    "Add each product as an image_overlay to the map."
   ]
  },
  {
   "cell_type": "code",
   "execution_count": null,
   "metadata": {},
   "outputs": [],
   "source": [
    "m.add_child(get_overlay(mask_rgb, mask_d, '{}-{} model water mask'.format(year, tile), opacity=0.6))\n",
    "m.add_child(get_overlay(probw_rgb, probw_d, '{}-{} model proba water'.format(year, tile), opacity=0.8, show=False))\n",
    "m.add_child(get_overlay(suml_rgb, suml_d, '{}-{} model sum land'.format(year, tile), opacity=0.8, show=False))\n",
    "m.add_child(get_overlay(bs_rgb, bs_d, '{}-{} MCD burn scar'.format(year, tile), opacity=0.8, show=False))\n",
    "m.add_child(get_overlay(gmted_b1, dem_d, '{} GEMTED'.format(tile), opacity=1, show=False))\n",
    "m.add_child(plugins.MousePosition())\n",
    "m.add_child(folium.LayerControl())"
   ]
  },
  {
   "cell_type": "code",
   "execution_count": null,
   "metadata": {},
   "outputs": [],
   "source": [
    "cleanup(mask_3857)\n",
    "cleanup(probW_3857)\n",
    "cleanup(sumL_3857)\n",
    "cleanup(bs_3857)\n",
    "cleanup(dem_3857)"
   ]
  },
  {
   "cell_type": "code",
   "execution_count": null,
   "metadata": {},
   "outputs": [],
   "source": []
  }
 ],
 "metadata": {
  "kernelspec": {
   "display_name": "ILAB Kernel",
   "language": "python",
   "name": "ilab-kernel"
  },
  "language_info": {
   "codemirror_mode": {
    "name": "ipython",
    "version": 3
   },
   "file_extension": ".py",
   "mimetype": "text/x-python",
   "name": "python",
   "nbconvert_exporter": "python",
   "pygments_lexer": "ipython3",
   "version": "3.9.13"
  }
 },
 "nbformat": 4,
 "nbformat_minor": 4
}
