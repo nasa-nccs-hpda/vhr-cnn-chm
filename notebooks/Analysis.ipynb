{
 "cells": [
  {
   "cell_type": "code",
   "execution_count": 1,
   "id": "6c25ce38-d1be-44ff-a0c9-f29e33391217",
   "metadata": {},
   "outputs": [
    {
     "name": "stderr",
     "output_type": "stream",
     "text": [
      "2022-06-29 13:28:23.896017: I tensorflow/stream_executor/platform/default/dso_loader.cc:49] Successfully opened dynamic library libcudart.so.11.0\n"
     ]
    }
   ],
   "source": [
    "import os\n",
    "import time\n",
    "import logging\n",
    "import fiona\n",
    "import rasterio\n",
    "import numpy as np\n",
    "import pandas as pd\n",
    "import xarray as xr\n",
    "import rioxarray as rxr\n",
    "import geopandas as gpd\n",
    "import shapely.speedups\n",
    "import matplotlib.pyplot as plt\n",
    "from glob import glob\n",
    "from rasterio.plot import show\n",
    "from rasterio.plot import show_hist\n",
    "from omegaconf import OmegaConf\n",
    "from omegaconf.listconfig import ListConfig\n",
    "from multiprocessing import Pool, cpu_count\n",
    "\n",
    "# import cuspatial\n",
    "import tensorflow as tf\n",
    "from pathlib import Path\n",
    "from shapely.geometry import box\n",
    "from skimage.transform import resize\n",
    "from sklearn.model_selection import train_test_split\n",
    "from tensorflow.keras.optimizers import Adam\n",
    "from sklearn.metrics import mean_squared_error\n",
    "\n",
    "shapely.speedups.enable()"
   ]
  },
  {
   "cell_type": "code",
   "execution_count": 2,
   "id": "b68dc282-3004-46c0-8176-8204346e60bc",
   "metadata": {},
   "outputs": [],
   "source": [
    "data_regex = '/adapt/nobackup/people/mcarrol2/LCLUC_Senegal/ForKonrad/Tappan01_WV02_20110430_M1BS_103001000A27E100_data.tif'\n",
    "chm_regex = '/adapt/nobackup/people/jacaraba/development/vhr-cnn-chm/data/cnn_chm_v2/Tappan01_WV02_20110430_M1BS_103001000A27E100_data.2m_chm.tif'"
   ]
  },
  {
   "cell_type": "code",
   "execution_count": 3,
   "id": "ffe65bfc-f1dc-489c-b4a1-3361a4f7e323",
   "metadata": {},
   "outputs": [],
   "source": [
    "data_filenames = glob(data_regex)\n",
    "chm_filenames = glob(chm_regex)"
   ]
  },
  {
   "cell_type": "code",
   "execution_count": null,
   "id": "5b4aaa67-4888-44b5-b8ff-4f8e664e3802",
   "metadata": {},
   "outputs": [],
   "source": [
    "for dataf, chmf in zip(data_filenames, chm_filenames):\n",
    "    \n",
    "    data_src = rasterio.open(dataf)\n",
    "    chm_src = rasterio.open(chmf)\n",
    "    \n",
    "    fig, (axrgb, axhist) = plt.subplots(1, 2, figsize=(14,7))\n",
    "    # show(data_src, ax=axrgb)\n",
    "    show((data_src, 7), ax=axrgb, cmap='Greens', title='nir channel')\n",
    "    show_hist(\n",
    "        data_src, bins=50, histtype='stepfilled', lw=0.0,\n",
    "        stacked=False, alpha=0.3, ax=axhist\n",
    "    )\n",
    "    plt.show()\n",
    "    \n",
    "    fig, (axrgb, axhist) = plt.subplots(1, 2, figsize=(14,7))\n",
    "    # show(data_src, ax=axrgb)\n",
    "    show(chm_src, ax=axrgb, cmap='Greens', title='nir channel')\n",
    "    show_hist(\n",
    "        chm_src, bins=50, histtype='stepfilled', lw=0.0,\n",
    "        stacked=False, alpha=0.3, ax=axhist\n",
    "    )\n",
    "    plt.show()"
   ]
  },
  {
   "cell_type": "code",
   "execution_count": null,
   "id": "cb1396ac-b45b-4bc8-a5ff-f0d1d70b5a8c",
   "metadata": {},
   "outputs": [],
   "source": [
    "# 1. h_can values of the training - \n",
    "# "
   ]
  },
  {
   "cell_type": "code",
   "execution_count": 4,
   "id": "d70c679b-f9fc-4627-adad-e25a020e9847",
   "metadata": {},
   "outputs": [],
   "source": [
    "import folium\n",
    "from folium import Map, TileLayer, GeoJson, LayerControl, Icon, \\\n",
    "    Marker, features, Figure, CircleMarker, plugins"
   ]
  },
  {
   "cell_type": "code",
   "execution_count": 5,
   "id": "f0fbad1b-f07c-497c-a542-98bf5f727b24",
   "metadata": {},
   "outputs": [],
   "source": [
    "basemaps = {\n",
    "       'Google Terrain' : TileLayer(\n",
    "        tiles = 'https://mt1.google.com/vt/lyrs=p&x={x}&y={y}&z={z}',\n",
    "        attr = 'Google',\n",
    "        name = 'Google Terrain',\n",
    "        overlay = False,\n",
    "        control = True\n",
    "       ),\n",
    "        'basemap_gray' : TileLayer(\n",
    "            tiles=\"http://services.arcgisonline.com/ArcGIS/rest/services/Canvas/World_Light_Gray_Base/MapServer/tile/{z}/{y}/{x}\",\n",
    "            opacity=1,\n",
    "            name=\"World gray basemap\",\n",
    "            attr=\"ESRI\",\n",
    "            overlay=False\n",
    "        ),\n",
    "        'Imagery' : TileLayer(\n",
    "            tiles='https://services.arcgisonline.com/arcgis/rest/services/World_Imagery/MapServer/tile/{z}/{y}/{x}',\n",
    "            opacity=1,\n",
    "            name=\"World Imagery\",\n",
    "            attr=\"ESRI\",\n",
    "            overlay=False\n",
    "        ),\n",
    "        'ESRINatGeo' : TileLayer(\n",
    "            tiles='https://server.arcgisonline.com/ArcGIS/rest/services/NatGeo_World_Map/MapServer/tile/{z}/{y}/{x}',\n",
    "            opacity=1,\n",
    "            name='ESRI NatGeo',\n",
    "            attr='ESRI',\n",
    "            overlay=False\n",
    "        )\n",
    "}"
   ]
  },
  {
   "cell_type": "code",
   "execution_count": 6,
   "id": "ad1680e1-0767-4d9b-b1a1-de3f4970cbc5",
   "metadata": {},
   "outputs": [
    {
     "data": {
      "text/html": [
       "<iframe src=\"about:blank\" width=\"1000\" height=\"400\"style=\"border:none !important;\" data-html=%3C%21DOCTYPE%20html%3E%0A%3Chead%3E%20%20%20%20%0A%20%20%20%20%3Cmeta%20http-equiv%3D%22content-type%22%20content%3D%22text/html%3B%20charset%3DUTF-8%22%20/%3E%0A%20%20%20%20%0A%20%20%20%20%20%20%20%20%3Cscript%3E%0A%20%20%20%20%20%20%20%20%20%20%20%20L_NO_TOUCH%20%3D%20false%3B%0A%20%20%20%20%20%20%20%20%20%20%20%20L_DISABLE_3D%20%3D%20false%3B%0A%20%20%20%20%20%20%20%20%3C/script%3E%0A%20%20%20%20%0A%20%20%20%20%3Cstyle%3Ehtml%2C%20body%20%7Bwidth%3A%20100%25%3Bheight%3A%20100%25%3Bmargin%3A%200%3Bpadding%3A%200%3B%7D%3C/style%3E%0A%20%20%20%20%3Cstyle%3E%23map%20%7Bposition%3Aabsolute%3Btop%3A0%3Bbottom%3A0%3Bright%3A0%3Bleft%3A0%3B%7D%3C/style%3E%0A%20%20%20%20%3Cscript%20src%3D%22https%3A//cdn.jsdelivr.net/npm/leaflet%401.6.0/dist/leaflet.js%22%3E%3C/script%3E%0A%20%20%20%20%3Cscript%20src%3D%22https%3A//code.jquery.com/jquery-1.12.4.min.js%22%3E%3C/script%3E%0A%20%20%20%20%3Cscript%20src%3D%22https%3A//maxcdn.bootstrapcdn.com/bootstrap/3.2.0/js/bootstrap.min.js%22%3E%3C/script%3E%0A%20%20%20%20%3Cscript%20src%3D%22https%3A//cdnjs.cloudflare.com/ajax/libs/Leaflet.awesome-markers/2.0.2/leaflet.awesome-markers.js%22%3E%3C/script%3E%0A%20%20%20%20%3Clink%20rel%3D%22stylesheet%22%20href%3D%22https%3A//cdn.jsdelivr.net/npm/leaflet%401.6.0/dist/leaflet.css%22/%3E%0A%20%20%20%20%3Clink%20rel%3D%22stylesheet%22%20href%3D%22https%3A//maxcdn.bootstrapcdn.com/bootstrap/3.2.0/css/bootstrap.min.css%22/%3E%0A%20%20%20%20%3Clink%20rel%3D%22stylesheet%22%20href%3D%22https%3A//maxcdn.bootstrapcdn.com/bootstrap/3.2.0/css/bootstrap-theme.min.css%22/%3E%0A%20%20%20%20%3Clink%20rel%3D%22stylesheet%22%20href%3D%22https%3A//maxcdn.bootstrapcdn.com/font-awesome/4.6.3/css/font-awesome.min.css%22/%3E%0A%20%20%20%20%3Clink%20rel%3D%22stylesheet%22%20href%3D%22https%3A//cdnjs.cloudflare.com/ajax/libs/Leaflet.awesome-markers/2.0.2/leaflet.awesome-markers.css%22/%3E%0A%20%20%20%20%3Clink%20rel%3D%22stylesheet%22%20href%3D%22https%3A//cdn.jsdelivr.net/gh/python-visualization/folium/folium/templates/leaflet.awesome.rotate.min.css%22/%3E%0A%20%20%20%20%0A%20%20%20%20%20%20%20%20%20%20%20%20%3Cmeta%20name%3D%22viewport%22%20content%3D%22width%3Ddevice-width%2C%0A%20%20%20%20%20%20%20%20%20%20%20%20%20%20%20%20initial-scale%3D1.0%2C%20maximum-scale%3D1.0%2C%20user-scalable%3Dno%22%20/%3E%0A%20%20%20%20%20%20%20%20%20%20%20%20%3Cstyle%3E%0A%20%20%20%20%20%20%20%20%20%20%20%20%20%20%20%20%23map_708f25a6381841b697778f8bc204be87%20%7B%0A%20%20%20%20%20%20%20%20%20%20%20%20%20%20%20%20%20%20%20%20position%3A%20relative%3B%0A%20%20%20%20%20%20%20%20%20%20%20%20%20%20%20%20%20%20%20%20width%3A%20100.0%25%3B%0A%20%20%20%20%20%20%20%20%20%20%20%20%20%20%20%20%20%20%20%20height%3A%20100.0%25%3B%0A%20%20%20%20%20%20%20%20%20%20%20%20%20%20%20%20%20%20%20%20left%3A%200.0%25%3B%0A%20%20%20%20%20%20%20%20%20%20%20%20%20%20%20%20%20%20%20%20top%3A%200.0%25%3B%0A%20%20%20%20%20%20%20%20%20%20%20%20%20%20%20%20%7D%0A%20%20%20%20%20%20%20%20%20%20%20%20%3C/style%3E%0A%20%20%20%20%20%20%20%20%0A%20%20%20%20%3Cscript%20src%3D%22https%3A//cdnjs.cloudflare.com/ajax/libs/leaflet.fullscreen/1.4.2/Control.FullScreen.min.js%22%3E%3C/script%3E%0A%20%20%20%20%3Clink%20rel%3D%22stylesheet%22%20href%3D%22https%3A//cdnjs.cloudflare.com/ajax/libs/leaflet.fullscreen/1.4.2/Control.FullScreen.min.css%22/%3E%0A%20%20%20%20%3Cscript%20src%3D%22https%3A//unpkg.com/leaflet-control-geocoder/dist/Control.Geocoder.js%22%3E%3C/script%3E%0A%20%20%20%20%3Clink%20rel%3D%22stylesheet%22%20href%3D%22https%3A//unpkg.com/leaflet-control-geocoder/dist/Control.Geocoder.css%22/%3E%0A%20%20%20%20%3Cscript%20src%3D%22https%3A//cdn.jsdelivr.net/gh/ardhi/Leaflet.MousePosition/src/L.Control.MousePosition.min.js%22%3E%3C/script%3E%0A%20%20%20%20%3Clink%20rel%3D%22stylesheet%22%20href%3D%22https%3A//cdn.jsdelivr.net/gh/ardhi/Leaflet.MousePosition/src/L.Control.MousePosition.min.css%22/%3E%0A%3C/head%3E%0A%3Cbody%3E%20%20%20%20%0A%20%20%20%20%0A%20%20%20%20%20%20%20%20%20%20%20%20%3Cdiv%20class%3D%22folium-map%22%20id%3D%22map_708f25a6381841b697778f8bc204be87%22%20%3E%3C/div%3E%0A%20%20%20%20%20%20%20%20%0A%3C/body%3E%0A%3Cscript%3E%20%20%20%20%0A%20%20%20%20%0A%20%20%20%20%20%20%20%20%20%20%20%20var%20map_708f25a6381841b697778f8bc204be87%20%3D%20L.map%28%0A%20%20%20%20%20%20%20%20%20%20%20%20%20%20%20%20%22map_708f25a6381841b697778f8bc204be87%22%2C%0A%20%20%20%20%20%20%20%20%20%20%20%20%20%20%20%20%7B%0A%20%20%20%20%20%20%20%20%20%20%20%20%20%20%20%20%20%20%20%20center%3A%20%5B0%2C%200%5D%2C%0A%20%20%20%20%20%20%20%20%20%20%20%20%20%20%20%20%20%20%20%20crs%3A%20L.CRS.EPSG3857%2C%0A%20%20%20%20%20%20%20%20%20%20%20%20%20%20%20%20%20%20%20%20zoom%3A%201%2C%0A%20%20%20%20%20%20%20%20%20%20%20%20%20%20%20%20%20%20%20%20zoomControl%3A%20true%2C%0A%20%20%20%20%20%20%20%20%20%20%20%20%20%20%20%20%20%20%20%20preferCanvas%3A%20false%2C%0A%20%20%20%20%20%20%20%20%20%20%20%20%20%20%20%20%7D%0A%20%20%20%20%20%20%20%20%20%20%20%20%29%3B%0A%20%20%20%20%20%20%20%20%20%20%20%20L.control.scale%28%29.addTo%28map_708f25a6381841b697778f8bc204be87%29%3B%0A%0A%20%20%20%20%20%20%20%20%20%20%20%20%0A%0A%20%20%20%20%20%20%20%20%0A%20%20%20%20%0A%20%20%20%20%20%20%20%20%20%20%20%20var%20tile_layer_f8185a233d0d481fa7c9971168ec2843%20%3D%20L.tileLayer%28%0A%20%20%20%20%20%20%20%20%20%20%20%20%20%20%20%20%22https%3A//services.arcgisonline.com/arcgis/rest/services/World_Imagery/MapServer/tile/%7Bz%7D/%7By%7D/%7Bx%7D%22%2C%0A%20%20%20%20%20%20%20%20%20%20%20%20%20%20%20%20%7B%22attribution%22%3A%20%22ESRI%22%2C%20%22detectRetina%22%3A%20false%2C%20%22maxNativeZoom%22%3A%2018%2C%20%22maxZoom%22%3A%2018%2C%20%22minZoom%22%3A%200%2C%20%22noWrap%22%3A%20false%2C%20%22opacity%22%3A%201%2C%20%22subdomains%22%3A%20%22abc%22%2C%20%22tms%22%3A%20false%7D%0A%20%20%20%20%20%20%20%20%20%20%20%20%29.addTo%28map_708f25a6381841b697778f8bc204be87%29%3B%0A%20%20%20%20%20%20%20%20%0A%20%20%20%20%0A%20%20%20%20%20%20%20%20%20%20%20%20var%20layer_control_d936189ea1774f759744889e2086458b%20%3D%20%7B%0A%20%20%20%20%20%20%20%20%20%20%20%20%20%20%20%20base_layers%20%3A%20%7B%0A%20%20%20%20%20%20%20%20%20%20%20%20%20%20%20%20%20%20%20%20%22World%20Imagery%22%20%3A%20tile_layer_f8185a233d0d481fa7c9971168ec2843%2C%0A%20%20%20%20%20%20%20%20%20%20%20%20%20%20%20%20%7D%2C%0A%20%20%20%20%20%20%20%20%20%20%20%20%20%20%20%20overlays%20%3A%20%20%7B%0A%20%20%20%20%20%20%20%20%20%20%20%20%20%20%20%20%7D%2C%0A%20%20%20%20%20%20%20%20%20%20%20%20%7D%3B%0A%20%20%20%20%20%20%20%20%20%20%20%20L.control.layers%28%0A%20%20%20%20%20%20%20%20%20%20%20%20%20%20%20%20layer_control_d936189ea1774f759744889e2086458b.base_layers%2C%0A%20%20%20%20%20%20%20%20%20%20%20%20%20%20%20%20layer_control_d936189ea1774f759744889e2086458b.overlays%2C%0A%20%20%20%20%20%20%20%20%20%20%20%20%20%20%20%20%7B%22autoZIndex%22%3A%20true%2C%20%22collapsed%22%3A%20true%2C%20%22position%22%3A%20%22topright%22%7D%0A%20%20%20%20%20%20%20%20%20%20%20%20%29.addTo%28map_708f25a6381841b697778f8bc204be87%29%3B%0A%20%20%20%20%20%20%20%20%0A%20%20%20%20%0A%20%20%20%20%20%20%20%20%20%20%20%20L.control.fullscreen%28%0A%20%20%20%20%20%20%20%20%20%20%20%20%20%20%20%20%7B%22forceSeparateButton%22%3A%20false%2C%20%22position%22%3A%20%22topleft%22%2C%20%22title%22%3A%20%22Full%20Screen%22%2C%20%22titleCancel%22%3A%20%22Exit%20Full%20Screen%22%7D%0A%20%20%20%20%20%20%20%20%20%20%20%20%29.addTo%28map_708f25a6381841b697778f8bc204be87%29%3B%0A%20%20%20%20%20%20%20%20%0A%20%20%20%20%0A%20%20%20%20%20%20%20%20%20%20%20%20L.Control.geocoder%28%0A%20%20%20%20%20%20%20%20%20%20%20%20%20%20%20%20%7B%22collapsed%22%3A%20false%2C%20%22defaultMarkGeocode%22%3A%20true%2C%20%22position%22%3A%20%22topright%22%7D%0A%20%20%20%20%20%20%20%20%20%20%20%20%29.on%28%27markgeocode%27%2C%20function%28e%29%20%7B%0A%20%20%20%20%20%20%20%20%20%20%20%20%20%20%20%20map_708f25a6381841b697778f8bc204be87.setView%28e.geocode.center%2C%2011%29%3B%0A%20%20%20%20%20%20%20%20%20%20%20%20%7D%29.addTo%28map_708f25a6381841b697778f8bc204be87%29%3B%0A%0A%20%20%20%20%20%20%20%20%0A%20%20%20%20%0A%20%20%20%20%20%20%20%20%20%20%20%20var%20mouse_position_54b2db1fcae64b01ac91268746ef2046%20%3D%20new%20L.Control.MousePosition%28%0A%20%20%20%20%20%20%20%20%20%20%20%20%20%20%20%20%7B%22emptyString%22%3A%20%22Unavailable%22%2C%20%22lngFirst%22%3A%20false%2C%20%22numDigits%22%3A%205%2C%20%22position%22%3A%20%22bottomright%22%2C%20%22prefix%22%3A%20%22%22%2C%20%22separator%22%3A%20%22%20%3A%20%22%7D%0A%20%20%20%20%20%20%20%20%20%20%20%20%29%3B%0A%20%20%20%20%20%20%20%20%20%20%20%20mouse_position_54b2db1fcae64b01ac91268746ef2046.options%5B%22latFormatter%22%5D%20%3D%0A%20%20%20%20%20%20%20%20%20%20%20%20%20%20%20%20undefined%3B%0A%20%20%20%20%20%20%20%20%20%20%20%20mouse_position_54b2db1fcae64b01ac91268746ef2046.options%5B%22lngFormatter%22%5D%20%3D%0A%20%20%20%20%20%20%20%20%20%20%20%20%20%20%20%20undefined%3B%0A%20%20%20%20%20%20%20%20%20%20%20%20map_708f25a6381841b697778f8bc204be87.addControl%28mouse_position_54b2db1fcae64b01ac91268746ef2046%29%3B%0A%20%20%20%20%20%20%20%20%0A%3C/script%3E onload=\"this.contentDocument.open();this.contentDocument.write(    decodeURIComponent(this.getAttribute('data-html')));this.contentDocument.close();\" \"allowfullscreen\" \"webkitallowfullscreen\" \"mozallowfullscreen\"></iframe>"
      ],
      "text/plain": [
       "<folium.folium.Map at 0x14c992501f10>"
      ]
     },
     "execution_count": 6,
     "metadata": {},
     "output_type": "execute_result"
    }
   ],
   "source": [
    "# Map the Layers\n",
    "Map_Figure = Figure(width=1000, height=400)\n",
    "\n",
    "foliumMap = Map(\n",
    "    #location=(atl08_gdf.lat.mean(), atl08_gdf.lon.mean()),\n",
    "    zoom_start=8,\n",
    "    control_scale=True,\n",
    "    tiles=None\n",
    ")\n",
    "Map_Figure.add_child(foliumMap)\n",
    "\n",
    "basemaps['Imagery'].add_to(foliumMap)\n",
    "LayerControl().add_to(foliumMap)\n",
    "plugins.Fullscreen().add_to(foliumMap)\n",
    "plugins.Geocoder().add_to(foliumMap)\n",
    "plugins.MousePosition().add_to(foliumMap)\n",
    "\n",
    "# Add marker of imagery based on year options\n",
    "# Add marker of imagery and zoom into overlay raster\n",
    "# Add marker of imagery and push on and off landcover layers\n",
    "\n",
    "\n",
    "foliumMap"
   ]
  },
  {
   "cell_type": "code",
   "execution_count": 7,
   "id": "517737f1-8acc-493f-9d16-c64db21085ee",
   "metadata": {},
   "outputs": [],
   "source": [
    "from glob import glob\n",
    "import rasterio as rio\n",
    "from pyproj import Transformer"
   ]
  },
  {
   "cell_type": "code",
   "execution_count": 21,
   "id": "9a8a2a79-ae0a-4a2c-8d67-c00ef476616f",
   "metadata": {},
   "outputs": [],
   "source": [
    "#data_regex = [\n",
    "#    '/adapt/nobackup/people/mwooten3/Senegal_LCLUC/VHR/CAS/M1BS/*.tif',\n",
    "#    '/adapt/nobackup/people/mwooten3/Senegal_LCLUC/VHR/ETZ/M1BS/*.tif',\n",
    "#    '/adapt/nobackup/people/mwooten3/Senegal_LCLUC/VHR/SRV/M1BS/*.tif'\n",
    "#]\n",
    "#data_regex = ['/gpfsm/ccds01/nobackup/projects/3sl/data/Tappan/*_data.tif']\n",
    "data_regex = ['/adapt/nobackup/projects/ilab/projects/Senegal/CNN_CHM/v4/output/*_data*.tif']"
   ]
  },
  {
   "cell_type": "code",
   "execution_count": 22,
   "id": "a5d2256b-b1cc-4f0c-9d1f-9d3f152c4c67",
   "metadata": {},
   "outputs": [
    {
     "name": "stdout",
     "output_type": "stream",
     "text": [
      "272\n"
     ]
    }
   ],
   "source": [
    "filenames = []\n",
    "if isinstance(data_regex, list) or isinstance(data_regex, ListConfig):\n",
    "    for regex in data_regex:\n",
    "        filenames.extend(glob(regex))\n",
    "else:\n",
    "    filenames = glob(data_regex)\n",
    "print(len(filenames))\n",
    "\n",
    "#filenames = ['/gpfsm/ccds01/nobackup/projects/3sl/data/VHR/CAS/M1BS/WV02_20210209_M1BS_10300100B3074C00-toa-cog.tif']\n",
    "#filenames = ['/gpfsm/ccds01/nobackup/projects/3sl/data/VHR/CAS/M1BS/WV02_20210209_M1BS_10300100B3074C00-toa.tif',\n",
    "#             '/gpfsm/ccds01/nobackup/projects/3sl/data/VHR/CAS/M1BS/WV02_20210209_M1BS_10300100B3074C00-toa-cog.tif',\n",
    "#             '/gpfsm/ccds01/nobackup/projects/3sl/data/Tappan/Tappan09_WV02_20191127_M1BS_103001009D5BF100_data-cog.tif',\n",
    "#            '/gpfsm/ccds01/nobackup/projects/3sl/data/Tappan/Tappan09_WV02_20191127_M1BS_103001009D5BF100_data.tif']"
   ]
  },
  {
   "cell_type": "code",
   "execution_count": 18,
   "id": "96573bc1-002a-4011-8e8f-0c642fdbd4e6",
   "metadata": {},
   "outputs": [
    {
     "name": "stdout",
     "output_type": "stream",
     "text": [
      "EPSG:32628\n",
      "EPSG:32628\n",
      "PROJCS[\"unnamed\",GEOGCS[\"Unknown datum based upon the WGS 84 ellipsoid\",DATUM[\"Not_specified_based_on_WGS_84_ellipsoid\",SPHEROID[\"WGS 84\",6378137,298.257223563,AUTHORITY[\"EPSG\",\"7030\"]],AUTHORITY[\"EPSG\",\"6030\"]],PRIMEM[\"Greenwich\",0],UNIT[\"degree\",0.0174532925199433,AUTHORITY[\"EPSG\",\"9122\"]],AUTHORITY[\"EPSG\",\"4030\"]],PROJECTION[\"Transverse_Mercator\"],PARAMETER[\"latitude_of_origin\",0],PARAMETER[\"central_meridian\",-15],PARAMETER[\"scale_factor\",0.9996],PARAMETER[\"false_easting\",500000],PARAMETER[\"false_northing\",0],UNIT[\"metre\",1,AUTHORITY[\"EPSG\",\"9001\"]],AXIS[\"Easting\",EAST],AXIS[\"Northing\",NORTH]]\n",
      "PROJCS[\"unnamed\",GEOGCS[\"Unknown datum based upon the WGS 84 ellipsoid\",DATUM[\"Not_specified_based_on_WGS_84_ellipsoid\",SPHEROID[\"WGS 84\",6378137,298.257223563,AUTHORITY[\"EPSG\",\"7030\"]],AUTHORITY[\"EPSG\",\"6030\"]],PRIMEM[\"Greenwich\",0],UNIT[\"degree\",0.0174532925199433,AUTHORITY[\"EPSG\",\"9122\"]],AUTHORITY[\"EPSG\",\"4030\"]],PROJECTION[\"Transverse_Mercator\"],PARAMETER[\"latitude_of_origin\",0],PARAMETER[\"central_meridian\",-15],PARAMETER[\"scale_factor\",0.9996],PARAMETER[\"false_easting\",500000],PARAMETER[\"false_northing\",0],UNIT[\"metre\",1,AUTHORITY[\"EPSG\",\"9001\"]],AXIS[\"Easting\",EAST],AXIS[\"Northing\",NORTH]]\n"
     ]
    }
   ],
   "source": [
    "\"\"\"\n",
    "dst_crs = 'EPSG:4326'\n",
    "\n",
    "for in_path in filenames:\n",
    "    \n",
    "    with rio.open(in_path) as src:\n",
    "\n",
    "        img = src.read([5,2,7])\n",
    "        print(src.crs)\n",
    "\n",
    "\n",
    "        src_crs = src.crs['init'].upper()\n",
    "        min_lon, min_lat, max_lon, max_lat = src.bounds\n",
    "        print(min_lon, min_lat, max_lon, max_lat)\n",
    "\n",
    "    ## Conversion from UTM to WGS84 CRS\n",
    "    bounds_orig = [[min_lat, min_lon], [max_lat, max_lon]]\n",
    "\n",
    "    bounds_fin = []\n",
    "\n",
    "    for item in bounds_orig:   \n",
    "        #converting to lat/lon\n",
    "        lat = item[0]\n",
    "        lon = item[1]\n",
    "\n",
    "        proj = Transformer.from_crs(int(src_crs.split(\":\")[1]), int(dst_crs.split(\":\")[1]), always_xy=True)\n",
    "\n",
    "        lon_n, lat_n = proj.transform(lon, lat)\n",
    "\n",
    "        bounds_fin.append([lat_n, lon_n])\n",
    "\n",
    "    # Finding the centre latitude & longitude    \n",
    "    centre_lon = bounds_fin[0][1] + (bounds_fin[1][1] - bounds_fin[0][1])/2\n",
    "    centre_lat = bounds_fin[0][0] + (bounds_fin[1][0] - bounds_fin[0][0])/2\n",
    "    print(centre_lon, centre_lat)\n",
    "    \n",
    "    #folium.Marker([centre_lat, centre_lon], popup=\"Camp Muir\").add_to(foliumMap)\n",
    "    # Overlay raster (RGB) called img using add_child() function (opacity and bounding box set)\n",
    "    foliumMap.add_child(folium.raster_layers.ImageOverlay(img.transpose(1, 2, 0), opacity=.7, \n",
    "                                 bounds = bounds_fin))\n",
    "\"\"\""
   ]
  },
  {
   "cell_type": "code",
   "execution_count": null,
   "id": "dbd1b502-101c-45fb-b332-d0a1cfd88cf5",
   "metadata": {},
   "outputs": [],
   "source": []
  },
  {
   "cell_type": "code",
   "execution_count": null,
   "id": "cf6d7efa-f0da-4a4c-9c33-58acf724c243",
   "metadata": {},
   "outputs": [],
   "source": []
  }
 ],
 "metadata": {
  "kernelspec": {
   "display_name": "ilab-kernel",
   "language": "python",
   "name": "python3"
  },
  "language_info": {
   "codemirror_mode": {
    "name": "ipython",
    "version": 3
   },
   "file_extension": ".py",
   "mimetype": "text/x-python",
   "name": "python",
   "nbconvert_exporter": "python",
   "pygments_lexer": "ipython3",
   "version": "3.7.12"
  }
 },
 "nbformat": 4,
 "nbformat_minor": 5
}
