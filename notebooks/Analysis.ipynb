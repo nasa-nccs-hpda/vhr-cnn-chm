{
 "cells": [
  {
   "cell_type": "code",
   "execution_count": null,
   "id": "6c25ce38-d1be-44ff-a0c9-f29e33391217",
   "metadata": {},
   "outputs": [],
   "source": [
    "import os\n",
    "import time\n",
    "import logging\n",
    "import fiona\n",
    "import rasterio\n",
    "import numpy as np\n",
    "import pandas as pd\n",
    "import xarray as xr\n",
    "import rioxarray as rxr\n",
    "import geopandas as gpd\n",
    "import shapely.speedups\n",
    "import matplotlib.pyplot as plt\n",
    "from glob import glob\n",
    "from rasterio.plot import show\n",
    "from rasterio.plot import show_hist\n",
    "from omegaconf import OmegaConf\n",
    "from omegaconf.listconfig import ListConfig\n",
    "from multiprocessing import Pool, cpu_count\n",
    "\n",
    "# import cuspatial\n",
    "import tensorflow as tf\n",
    "from pathlib import Path\n",
    "from shapely.geometry import box\n",
    "from skimage.transform import resize\n",
    "from sklearn.model_selection import train_test_split\n",
    "from tensorflow.keras.optimizers import Adam\n",
    "from sklearn.metrics import mean_squared_error\n",
    "\n",
    "shapely.speedups.enable()"
   ]
  },
  {
   "cell_type": "code",
   "execution_count": null,
   "id": "b68dc282-3004-46c0-8176-8204346e60bc",
   "metadata": {},
   "outputs": [],
   "source": [
    "data_regex = '/adapt/nobackup/people/mcarrol2/LCLUC_Senegal/ForKonrad/Tappan01_WV02_20110430_M1BS_103001000A27E100_data.tif'\n",
    "chm_regex = '/adapt/nobackup/people/jacaraba/development/vhr-cnn-chm/data/cnn_chm_v2/Tappan01_WV02_20110430_M1BS_103001000A27E100_data.2m_chm.tif'"
   ]
  },
  {
   "cell_type": "code",
   "execution_count": null,
   "id": "ffe65bfc-f1dc-489c-b4a1-3361a4f7e323",
   "metadata": {},
   "outputs": [],
   "source": [
    "data_filenames = glob(data_regex)\n",
    "chm_filenames = glob(chm_regex)"
   ]
  },
  {
   "cell_type": "code",
   "execution_count": null,
   "id": "5b4aaa67-4888-44b5-b8ff-4f8e664e3802",
   "metadata": {},
   "outputs": [],
   "source": [
    "for dataf, chmf in zip(data_filenames, chm_filenames):\n",
    "    \n",
    "    data_src = rasterio.open(dataf)\n",
    "    chm_src = rasterio.open(chmf)\n",
    "    \n",
    "    fig, (axrgb, axhist) = plt.subplots(1, 2, figsize=(14,7))\n",
    "    # show(data_src, ax=axrgb)\n",
    "    show((data_src, 7), ax=axrgb, cmap='Greens', title='nir channel')\n",
    "    show_hist(\n",
    "        data_src, bins=50, histtype='stepfilled', lw=0.0,\n",
    "        stacked=False, alpha=0.3, ax=axhist\n",
    "    )\n",
    "    plt.show()\n",
    "    \n",
    "    fig, (axrgb, axhist) = plt.subplots(1, 2, figsize=(14,7))\n",
    "    # show(data_src, ax=axrgb)\n",
    "    show(chm_src, ax=axrgb, cmap='Greens', title='nir channel')\n",
    "    show_hist(\n",
    "        chm_src, bins=50, histtype='stepfilled', lw=0.0,\n",
    "        stacked=False, alpha=0.3, ax=axhist\n",
    "    )\n",
    "    plt.show()"
   ]
  },
  {
   "cell_type": "code",
   "execution_count": null,
   "id": "cb1396ac-b45b-4bc8-a5ff-f0d1d70b5a8c",
   "metadata": {},
   "outputs": [],
   "source": [
    "# 1. h_can values of the training - \n",
    "# "
   ]
  },
  {
   "cell_type": "code",
   "execution_count": null,
   "id": "d70c679b-f9fc-4627-adad-e25a020e9847",
   "metadata": {},
   "outputs": [],
   "source": [
    "import folium\n",
    "from folium import Map, TileLayer, GeoJson, LayerControl, Icon, \\\n",
    "    Marker, features, Figure, CircleMarker, plugins"
   ]
  },
  {
   "cell_type": "code",
   "execution_count": null,
   "id": "f0fbad1b-f07c-497c-a542-98bf5f727b24",
   "metadata": {},
   "outputs": [],
   "source": [
    "basemaps = {\n",
    "       'Google Terrain' : TileLayer(\n",
    "        tiles = 'https://mt1.google.com/vt/lyrs=p&x={x}&y={y}&z={z}',\n",
    "        attr = 'Google',\n",
    "        name = 'Google Terrain',\n",
    "        overlay = False,\n",
    "        control = True\n",
    "       ),\n",
    "        'basemap_gray' : TileLayer(\n",
    "            tiles=\"http://services.arcgisonline.com/ArcGIS/rest/services/Canvas/World_Light_Gray_Base/MapServer/tile/{z}/{y}/{x}\",\n",
    "            opacity=1,\n",
    "            name=\"World gray basemap\",\n",
    "            attr=\"ESRI\",\n",
    "            overlay=False\n",
    "        ),\n",
    "        'Imagery' : TileLayer(\n",
    "            tiles='https://services.arcgisonline.com/arcgis/rest/services/World_Imagery/MapServer/tile/{z}/{y}/{x}',\n",
    "            opacity=1,\n",
    "            name=\"World Imagery\",\n",
    "            attr=\"ESRI\",\n",
    "            overlay=False\n",
    "        ),\n",
    "        'ESRINatGeo' : TileLayer(\n",
    "            tiles='https://server.arcgisonline.com/ArcGIS/rest/services/NatGeo_World_Map/MapServer/tile/{z}/{y}/{x}',\n",
    "            opacity=1,\n",
    "            name='ESRI NatGeo',\n",
    "            attr='ESRI',\n",
    "            overlay=False\n",
    "        )\n",
    "}"
   ]
  },
  {
   "cell_type": "code",
   "execution_count": null,
   "id": "ad1680e1-0767-4d9b-b1a1-de3f4970cbc5",
   "metadata": {},
   "outputs": [],
   "source": [
    "# Map the Layers\n",
    "Map_Figure = Figure(width=1000, height=400)\n",
    "\n",
    "foliumMap = Map(\n",
    "    #location=(atl08_gdf.lat.mean(), atl08_gdf.lon.mean()),\n",
    "    zoom_start=8,\n",
    "    control_scale=True,\n",
    "    tiles=None\n",
    ")\n",
    "Map_Figure.add_child(foliumMap)\n",
    "\n",
    "basemaps['Imagery'].add_to(foliumMap)\n",
    "LayerControl().add_to(foliumMap)\n",
    "plugins.Fullscreen().add_to(foliumMap)\n",
    "plugins.Geocoder().add_to(foliumMap)\n",
    "plugins.MousePosition().add_to(foliumMap)\n",
    "\n",
    "# Add marker of imagery based on year options\n",
    "# Add marker of imagery and zoom into overlay raster\n",
    "# Add marker of imagery and push on and off landcover layers\n",
    "\n",
    "\n",
    "foliumMap"
   ]
  },
  {
   "cell_type": "code",
   "execution_count": null,
   "id": "517737f1-8acc-493f-9d16-c64db21085ee",
   "metadata": {},
   "outputs": [],
   "source": [
    "from glob import glob\n",
    "import rasterio as rio\n",
    "from pyproj import Transformer"
   ]
  },
  {
   "cell_type": "code",
   "execution_count": null,
   "id": "9a8a2a79-ae0a-4a2c-8d67-c00ef476616f",
   "metadata": {},
   "outputs": [],
   "source": [
    "#data_regex = [\n",
    "#    '/adapt/nobackup/people/mwooten3/Senegal_LCLUC/VHR/CAS/M1BS/*.tif',\n",
    "#    '/adapt/nobackup/people/mwooten3/Senegal_LCLUC/VHR/ETZ/M1BS/*.tif',\n",
    "#    '/adapt/nobackup/people/mwooten3/Senegal_LCLUC/VHR/SRV/M1BS/*.tif'\n",
    "#]\n",
    "#data_regex = ['/gpfsm/ccds01/nobackup/projects/3sl/data/Tappan/*_data.tif']\n",
    "data_regex = ['/adapt/nobackup/projects/ilab/projects/Senegal/CNN_CHM/v4/output/*_data*.tif']"
   ]
  },
  {
   "cell_type": "code",
   "execution_count": null,
   "id": "a5d2256b-b1cc-4f0c-9d1f-9d3f152c4c67",
   "metadata": {},
   "outputs": [],
   "source": [
    "filenames = []\n",
    "if isinstance(data_regex, list) or isinstance(data_regex, ListConfig):\n",
    "    for regex in data_regex:\n",
    "        filenames.extend(glob(regex))\n",
    "else:\n",
    "    filenames = glob(data_regex)\n",
    "print(len(filenames))\n",
    "\n",
    "#filenames = ['/gpfsm/ccds01/nobackup/projects/3sl/data/VHR/CAS/M1BS/WV02_20210209_M1BS_10300100B3074C00-toa-cog.tif']\n",
    "#filenames = ['/gpfsm/ccds01/nobackup/projects/3sl/data/VHR/CAS/M1BS/WV02_20210209_M1BS_10300100B3074C00-toa.tif',\n",
    "#             '/gpfsm/ccds01/nobackup/projects/3sl/data/VHR/CAS/M1BS/WV02_20210209_M1BS_10300100B3074C00-toa-cog.tif',\n",
    "#             '/gpfsm/ccds01/nobackup/projects/3sl/data/Tappan/Tappan09_WV02_20191127_M1BS_103001009D5BF100_data-cog.tif',\n",
    "#            '/gpfsm/ccds01/nobackup/projects/3sl/data/Tappan/Tappan09_WV02_20191127_M1BS_103001009D5BF100_data.tif']"
   ]
  },
  {
   "cell_type": "code",
   "execution_count": null,
   "id": "96573bc1-002a-4011-8e8f-0c642fdbd4e6",
   "metadata": {},
   "outputs": [],
   "source": [
    "\"\"\"\n",
    "dst_crs = 'EPSG:4326'\n",
    "\n",
    "for in_path in filenames:\n",
    "    \n",
    "    with rio.open(in_path) as src:\n",
    "\n",
    "        img = src.read([5,2,7])\n",
    "        print(src.crs)\n",
    "\n",
    "\n",
    "        src_crs = src.crs['init'].upper()\n",
    "        min_lon, min_lat, max_lon, max_lat = src.bounds\n",
    "        print(min_lon, min_lat, max_lon, max_lat)\n",
    "\n",
    "    ## Conversion from UTM to WGS84 CRS\n",
    "    bounds_orig = [[min_lat, min_lon], [max_lat, max_lon]]\n",
    "\n",
    "    bounds_fin = []\n",
    "\n",
    "    for item in bounds_orig:   \n",
    "        #converting to lat/lon\n",
    "        lat = item[0]\n",
    "        lon = item[1]\n",
    "\n",
    "        proj = Transformer.from_crs(int(src_crs.split(\":\")[1]), int(dst_crs.split(\":\")[1]), always_xy=True)\n",
    "\n",
    "        lon_n, lat_n = proj.transform(lon, lat)\n",
    "\n",
    "        bounds_fin.append([lat_n, lon_n])\n",
    "\n",
    "    # Finding the centre latitude & longitude    \n",
    "    centre_lon = bounds_fin[0][1] + (bounds_fin[1][1] - bounds_fin[0][1])/2\n",
    "    centre_lat = bounds_fin[0][0] + (bounds_fin[1][0] - bounds_fin[0][0])/2\n",
    "    print(centre_lon, centre_lat)\n",
    "    \n",
    "    #folium.Marker([centre_lat, centre_lon], popup=\"Camp Muir\").add_to(foliumMap)\n",
    "    # Overlay raster (RGB) called img using add_child() function (opacity and bounding box set)\n",
    "    foliumMap.add_child(folium.raster_layers.ImageOverlay(img.transpose(1, 2, 0), opacity=.7, \n",
    "                                 bounds = bounds_fin))\n",
    "\"\"\""
   ]
  },
  {
   "cell_type": "code",
   "execution_count": null,
   "id": "dbd1b502-101c-45fb-b332-d0a1cfd88cf5",
   "metadata": {},
   "outputs": [],
   "source": []
  },
  {
   "cell_type": "code",
   "execution_count": null,
   "id": "cf6d7efa-f0da-4a4c-9c33-58acf724c243",
   "metadata": {},
   "outputs": [],
   "source": []
  }
 ],
 "metadata": {
  "kernelspec": {
   "display_name": "Python 3 (ipykernel)",
   "language": "python",
   "name": "python3"
  },
  "language_info": {
   "codemirror_mode": {
    "name": "ipython",
    "version": 3
   },
   "file_extension": ".py",
   "mimetype": "text/x-python",
   "name": "python",
   "nbconvert_exporter": "python",
   "pygments_lexer": "ipython3",
   "version": "3.10.6"
  }
 },
 "nbformat": 4,
 "nbformat_minor": 5
}
