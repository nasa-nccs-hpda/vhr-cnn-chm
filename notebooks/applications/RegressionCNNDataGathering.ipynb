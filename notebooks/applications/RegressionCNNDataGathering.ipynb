{
 "cells": [
  {
   "cell_type": "code",
   "execution_count": null,
   "id": "185d4651-a7bc-4ca6-93fb-ed87626eedf0",
   "metadata": {},
   "outputs": [],
   "source": [
    "import os\n",
    "import rasterio\n",
    "import geopandas as gpd\n",
    "import matplotlib.pyplot as plt\n",
    "from glob import glob\n",
    "from pathlib import Path\n",
    "from shapely.geometry import Point\n",
    "from rasterio.plot import show"
   ]
  },
  {
   "cell_type": "code",
   "execution_count": null,
   "id": "9cbb85d4-0a39-490e-97c4-f563d911fb01",
   "metadata": {},
   "outputs": [],
   "source": [
    "wv_data_dir = '/adapt/nobackup/people/mwooten3/Senegal_LCLUC/VHR/CAS/M1BS'\n",
    "atl08_data_regex = '/explore/nobackup/projects/ilab/projects/Senegal/CNN_CHM/senegal_20m/intersection_metadata_evhrtoa/CAS/*.gpkg'"
   ]
  },
  {
   "cell_type": "code",
   "execution_count": null,
   "id": "43c51114-6bed-4974-8624-407971450078",
   "metadata": {},
   "outputs": [],
   "source": [
    "for atl08_filename in glob(atl08_data_regex):\n",
    "    \n",
    "    wv_filename = os.path.join(wv_data_dir, f'{Path(atl08_filename).stem}.tif')\n",
    "    \n",
    "    raster_data = rasterio.open(wv_filename)\n",
    "    atl08_data = gpd.read_file(atl08_filename, layer='ATL08_WorldView')\n",
    "    \n",
    "    print(wv_filename)\n",
    "\n",
    "    fig, ax = plt.subplots(figsize=(20,15))\n",
    "    \n",
    "    # transform rasterio plot to real world coords\n",
    "    extent=[raster_data.bounds[0], raster_data.bounds[2], raster_data.bounds[1], raster_data.bounds[3]]\n",
    "    ax = rasterio.plot.show(raster_data, extent=extent, ax=ax, cmap='pink')\n",
    "    atl08_data.plot(ax=ax)\n",
    "\n",
    "    plt.title(f'{wv_filename}, {atl08_data.shape[0]}')\n",
    "    plt.show()"
   ]
  },
  {
   "cell_type": "code",
   "execution_count": null,
   "id": "82b6f1d6-58c9-47f1-95b4-b43ec7760fda",
   "metadata": {},
   "outputs": [],
   "source": []
  }
 ],
 "metadata": {
  "kernelspec": {
   "display_name": "Python 3 (ipykernel)",
   "language": "python",
   "name": "python3"
  },
  "language_info": {
   "codemirror_mode": {
    "name": "ipython",
    "version": 3
   },
   "file_extension": ".py",
   "mimetype": "text/x-python",
   "name": "python",
   "nbconvert_exporter": "python",
   "pygments_lexer": "ipython3",
   "version": "3.10.6"
  }
 },
 "nbformat": 4,
 "nbformat_minor": 5
}
