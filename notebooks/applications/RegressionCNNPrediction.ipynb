{
 "cells": [
  {
   "cell_type": "code",
   "execution_count": null,
   "id": "6ff8ade8-45e3-4477-910b-658d5666b727",
   "metadata": {},
   "outputs": [],
   "source": [
    "import numpy as np\n",
    "import matplotlib.pyplot as plt\n",
    "import tensorflow as tf\n",
    "import rioxarray as rxr\n",
    "from glob import glob\n",
    "from pathlib import Path\n",
    "from skimage.transform import resize"
   ]
  },
  {
   "cell_type": "code",
   "execution_count": null,
   "id": "d416c798-cf25-4b84-ac59-7a0be6b2a22c",
   "metadata": {},
   "outputs": [],
   "source": [
    "# Dialation of the clouds"
   ]
  },
  {
   "cell_type": "code",
   "execution_count": null,
   "id": "3e7bb5f7-a085-45a4-8bfb-0611aad0bec1",
   "metadata": {},
   "outputs": [],
   "source": [
    "data_regex = '/adapt/nobackup/projects/ilab/projects/Senegal/CNN_CHM/tiles_cas/*.tif'\n",
    "#model_filename = '/adapt/nobackup/projects/ilab/projects/Senegal/CNN_CHM/model/25-32.46.hdf5'\n",
    "#model_filename = '/adapt/nobackup/projects/ilab/projects/Senegal/CNN_CHM/model/24-31.54.hdf5'\n",
    "model_filename = '/adapt/nobackup/projects/ilab/projects/Senegal/CNN_CHM/model/22-27.97.hdf5'"
   ]
  },
  {
   "cell_type": "code",
   "execution_count": null,
   "id": "4a11d131-99a0-4e8a-827a-816e1d831c0d",
   "metadata": {},
   "outputs": [],
   "source": [
    "model = tf.keras.models.load_model(model_filename)\n",
    "model.summary()"
   ]
  },
  {
   "cell_type": "code",
   "execution_count": null,
   "id": "e20d38ab-23cc-4558-a4fc-3d2264d8a7c5",
   "metadata": {},
   "outputs": [],
   "source": [
    "data_list = glob(data_regex)\n",
    "len(data_list)"
   ]
  },
  {
   "cell_type": "code",
   "execution_count": null,
   "id": "7ed15664-1424-449d-8ebc-aeef686ae275",
   "metadata": {},
   "outputs": [],
   "source": [
    "data_array = []\n",
    "label_array = []\n",
    "\n",
    "for filename in data_list:\n",
    "    \n",
    "    data = rxr.open_rasterio(filename).values\n",
    "    \n",
    "    if data.min() < -100:\n",
    "        continue\n",
    "    \n",
    "    data = np.moveaxis(data, 0, -1)\n",
    "    data = resize(data, (128, 128))\n",
    "    data = data / 10000.0\n",
    "    data_array.append(data)\n",
    "\n",
    "    label_array.append(float((Path(filename).stem).split('_')[-1]))\n",
    "\n",
    "data_array = np.array(data_array)\n",
    "label_array = np.array(label_array)\n",
    "data_array.shape, label_array.shape"
   ]
  },
  {
   "cell_type": "code",
   "execution_count": null,
   "id": "2a26786e-d6a6-43bf-afa0-f8797587d6a6",
   "metadata": {},
   "outputs": [],
   "source": [
    "predictions = model.predict(data_array, batch_size=128)\n",
    "predictions = np.squeeze(predictions)\n",
    "predictions.shape"
   ]
  },
  {
   "cell_type": "code",
   "execution_count": null,
   "id": "1fcb6fcf-6018-4259-8068-26054a647267",
   "metadata": {},
   "outputs": [],
   "source": [
    "import sklearn.metrics as sm\n",
    "print(\"Mean absolute error =\", round(sm.mean_absolute_error(label_array, predictions), 4)) \n",
    "print(\"Mean absolute percent error =\", round(sm.mean_absolute_percentage_error(label_array, predictions), 4)) \n",
    "print(\"Mean squared error =\", round(sm.mean_squared_error(label_array, predictions), 4)) \n",
    "print(\"Median absolute error =\", round(sm.median_absolute_error(label_array, predictions), 4)) \n",
    "print(\"Explain variance score =\", round(sm.explained_variance_score(label_array, predictions), 4)) \n",
    "print(\"R2 score =\", round(sm.r2_score(label_array, predictions), 4))"
   ]
  },
  {
   "cell_type": "code",
   "execution_count": null,
   "id": "c600d1cf-bd7e-435a-a60e-e6ab8b600d03",
   "metadata": {},
   "outputs": [],
   "source": [
    "for i in range(data_array.shape[0]):\n",
    "    \n",
    "    print(f'Label: {label_array[i]}, Prediction: {predictions[i]}')\n",
    "    plt.imshow(data_array[i, :, :, 3])\n",
    "    plt.show()"
   ]
  },
  {
   "cell_type": "code",
   "execution_count": null,
   "id": "e8ac2e6a-b3ca-41a2-81bd-9c4d835702e4",
   "metadata": {},
   "outputs": [],
   "source": []
  }
 ],
 "metadata": {
  "kernelspec": {
   "display_name": "Python 3 (ipykernel)",
   "language": "python",
   "name": "python3"
  },
  "language_info": {
   "codemirror_mode": {
    "name": "ipython",
    "version": 3
   },
   "file_extension": ".py",
   "mimetype": "text/x-python",
   "name": "python",
   "nbconvert_exporter": "python",
   "pygments_lexer": "ipython3",
   "version": "3.10.6"
  }
 },
 "nbformat": 4,
 "nbformat_minor": 5
}
