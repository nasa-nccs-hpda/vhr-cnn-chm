{
 "cells": [
  {
   "cell_type": "code",
   "execution_count": null,
   "id": "9ad567c6-d443-49ae-a9f1-400200043636",
   "metadata": {},
   "outputs": [],
   "source": [
    "import pandas as pd\n",
    "import geopandas as gpd\n",
    "import os\n",
    "#import maplib\n",
    "import fiona\n",
    "import csv"
   ]
  },
  {
   "cell_type": "code",
   "execution_count": null,
   "id": "470f98d6-79fc-45ee-97ea-9852d49068cf",
   "metadata": {},
   "outputs": [],
   "source": [
    "#read in GLiHT footprints\n",
    "howland_fn = '/adapt/nobackup/people/zwwillia/dataCollections/GLiHT/Howland/Howland_footprints.gpkg'\n",
    "serc_fn = '/adapt/nobackup/people/zwwillia/dataCollections/GLiHT/Serc/SERC_footprints.gpkg'\n",
    "\n",
    "serc_gdb = gpd.read_file(serc_fn)\n",
    "howland_gdb = gpd.read_file(howland_fn)\n",
    "howland_gdb.head()\n",
    "\n",
    "#read in SR-Lite footprints\n",
    "srlite_fn = '/explore/nobackup/projects/ilab/projects/srlite/output/products/footprints/footprints_srlite-0.9.9.gpkg'\n",
    "srlite_gdb = gpd.read_file(srlite_fn)\n",
    "srlite_gdb.head()\n",
    "\n",
    "print('SR Lite scenes/projection:')\n",
    "print(len(srlite_gdb))\n",
    "print(srlite_gdb.crs)\n",
    "print()\n",
    "print('GLiHT Howland scenes/projection:')\n",
    "print(len(howland_gdb))\n",
    "print(howland_gdb.crs)\n",
    "print()\n",
    "print('GLiHT SERC scenes/projection:')\n",
    "print(len(serc_gdb))\n",
    "print(serc_gdb.crs)"
   ]
  },
  {
   "cell_type": "code",
   "execution_count": null,
   "id": "6bbf3b86-5218-4fee-b6a2-0625156542ee",
   "metadata": {},
   "outputs": [],
   "source": [
    "#if mismatched crs, reproject\n",
    "howland_gdb = howland_gdb.to_crs(srlite_gdb.crs)\n",
    "print('Howland Projection:')\n",
    "print(howland_gdb.crs)\n",
    "serc_gdb = serc_gdb.to_crs(srlite_gdb.crs)\n",
    "print('SERC Projection:')\n",
    "print(serc_gdb.crs)"
   ]
  },
  {
   "cell_type": "code",
   "execution_count": null,
   "id": "b57f62d9-7ab7-4773-9ac3-4a57df15ce83",
   "metadata": {},
   "outputs": [],
   "source": [
    "#find matches\n",
    "#srlite_gdb['savedindex'] = srlite_gdb.index\n",
    "intersect_howland = gpd.overlay(howland_gdb,srlite_gdb,how='intersection')\n",
    "\n",
    "print('Scene matches:')\n",
    "print(len(intersect_howland))\n",
    "\n",
    "keep_col_list = ['location', 'path', 'file','area_km2']\n",
    "#rm_col_list = intersect.columns.difference(keep_col_list).tolist()\n",
    "#intersect = intersect.drop(rm_col_list, axis=1)\n",
    "intersect.head()"
   ]
  },
  {
   "cell_type": "code",
   "execution_count": null,
   "id": "6292d65b-bfa5-4621-bc38-9cc05c97f4df",
   "metadata": {},
   "outputs": [],
   "source": [
    "intersect_howland = gpd.overlay(howland_gdb,srlite_gdb,how='intersection')\n",
    "print(len(intersect_howland))\n",
    "intersect_howland.head()"
   ]
  },
  {
   "cell_type": "code",
   "execution_count": null,
   "id": "1e835d6c-77ca-4c8f-a555-00bb41d883df",
   "metadata": {},
   "outputs": [],
   "source": [
    "intersect_howland.to_file('/adapt/nobackup/people/zwwillia/dataCollections/GLiHT/Howland/SR_lite_intersect.gpkg',driver='GPKG')"
   ]
  },
  {
   "cell_type": "code",
   "execution_count": null,
   "id": "a6edb483-faf8-4468-8486-186e576d9c3d",
   "metadata": {},
   "outputs": [],
   "source": []
  }
 ],
 "metadata": {
  "kernelspec": {
   "display_name": "Python 3 (ipykernel)",
   "language": "python",
   "name": "python3"
  },
  "language_info": {
   "codemirror_mode": {
    "name": "ipython",
    "version": 3
   },
   "file_extension": ".py",
   "mimetype": "text/x-python",
   "name": "python",
   "nbconvert_exporter": "python",
   "pygments_lexer": "ipython3",
   "version": "3.10.6"
  },
  "widgets": {
   "application/vnd.jupyter.widget-state+json": {
    "state": {},
    "version_major": 2,
    "version_minor": 0
   }
  }
 },
 "nbformat": 4,
 "nbformat_minor": 5
}
