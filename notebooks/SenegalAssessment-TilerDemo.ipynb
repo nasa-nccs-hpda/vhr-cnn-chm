{
 "cells": [
  {
   "cell_type": "markdown",
   "id": "35515691-eb20-4a1e-9463-e44bf8f56c45",
   "metadata": {},
   "source": [
    "# Senegal Assessment Notebook\n",
    "\n",
    "Notebook to perform assessment of CHM and Land Cover results over senegal.\n",
    "\n",
    "## TODO\n",
    "\n",
    "- Add marker of imagery based on year options\n",
    "- Add marker of imagery and zoom into overlay raster\n",
    "- Add marker of imagery and push on and off landcover layers\n",
    "- Marker with histogram, super-imposing the histograms\n",
    "- Plot multiple images, filter by year\n",
    "\n",
    "## Define data paths\n",
    "\n",
    "Here we define data path with regexs."
   ]
  },
  {
   "cell_type": "code",
   "execution_count": 1,
   "id": "1ab3682f-5b2d-4594-b561-512ff6712f34",
   "metadata": {},
   "outputs": [],
   "source": [
    "import os\n",
    "import re\n",
    "import tempfile\n",
    "import folium\n",
    "import numpy as np\n",
    "import rasterio as rio\n",
    "import ipywidgets as widgets\n",
    "import branca.colormap as cm\n",
    "import matplotlib.pyplot as plt\n",
    "import pandas as pd\n",
    "import altair as alt\n",
    "import json\n",
    "\n",
    "from glob import glob\n",
    "from pathlib import Path\n",
    "from folium import plugins\n",
    "from pyproj import Transformer \n",
    "from rasterio.warp import calculate_default_transform, reproject, Resampling\n",
    "\n",
    "os.environ['LOCALTILESERVER_CLIENT_PREFIX'] = \\\n",
    "    f\"{os.environ['JUPYTERHUB_SERVICE_PREFIX'].lstrip('/')}/proxy/{{port}}\"\n",
    "\n",
    "from localtileserver import get_folium_tile_layer, TileClient"
   ]
  },
  {
   "cell_type": "code",
   "execution_count": 2,
   "id": "44834770-f583-4e18-8c9d-d61aafd492fd",
   "metadata": {},
   "outputs": [],
   "source": [
    "data_bands = [5, 2, 7]\n",
    "data_dir = '/adapt/nobackup/projects/3sl/data/Tappan/*_data.tif'\n",
    "landcover_dir = '/adapt/nobackup/projects/ilab/projects/Senegal/3sl/products/land_cover/dev/trees.v2/Tappan/*.tif'\n",
    "chm_dir = '/adapt/nobackup/projects/ilab/projects/Senegal/CNN_CHM/v4/output/*.tif'"
   ]
  },
  {
   "cell_type": "markdown",
   "id": "1f1f340c-bcb6-4e0c-986c-748405a3a8c7",
   "metadata": {},
   "source": [
    "Then, we generate lists out of the files available on the dirs."
   ]
  },
  {
   "cell_type": "code",
   "execution_count": 3,
   "id": "3758552d-1bc0-4997-b263-cd399a22d42a",
   "metadata": {},
   "outputs": [
    {
     "name": "stdout",
     "output_type": "stream",
     "text": [
      "Loading 272 filenames.\n"
     ]
    }
   ],
   "source": [
    "data_filenames = sorted(glob(data_dir))\n",
    "landcover_filenames = sorted(glob(landcover_dir))\n",
    "chm_filenames = sorted(glob(chm_dir))\n",
    "assert len(data_filenames) == len(landcover_filenames) \\\n",
    "    and len(landcover_filenames) == len(chm_filenames), \\\n",
    "    'Not all layers have the same number of file'\n",
    "print(f'Loading {len(data_filenames)} filenames.')"
   ]
  },
  {
   "cell_type": "code",
   "execution_count": 4,
   "id": "aba0b6f8-fcd9-4643-a371-bcfb7880a0a4",
   "metadata": {},
   "outputs": [],
   "source": [
    "filenames_metadata = dict()\n",
    "for d, l, c in zip(data_filenames, landcover_filenames, chm_filenames):\n",
    "    \n",
    "    #raster_date = re.search(r'\\d{4}\\d{2}\\d{2}', d).group(0)\n",
    "    raster_date = re.search(r'\\d{4}', d).group(0)\n",
    "    raster_id = re.search(r'Tappan\\d{2}', d).group(0)\n",
    "    \n",
    "    #print(filenames_metadata.keys())\n",
    "    if raster_date not in filenames_metadata:\n",
    "        filenames_metadata[raster_date] = [\n",
    "            {\n",
    "                'data_layer': d,\n",
    "                'landcover_layer': l,\n",
    "                'chm_layer': c\n",
    "            }\n",
    "        ]\n",
    "    else:\n",
    "        filenames_metadata[raster_date].append(\n",
    "            {\n",
    "                'data_layer': d,\n",
    "                'landcover_layer': l,\n",
    "                'chm_layer': c\n",
    "            }\n",
    "        )\n",
    "    #print(raster_date.group(0), raster_id.group(0), d)\n",
    "\n",
    "\n",
    "filenames_metadata = dict(sorted(filenames_metadata.items()))"
   ]
  },
  {
   "cell_type": "markdown",
   "id": "b1e374fa-7d2b-49d8-afd4-8a390c5816da",
   "metadata": {},
   "source": [
    "## Define basemaps for later use\n",
    "\n",
    "Here we define basemaps for use with folium on the backend."
   ]
  },
  {
   "cell_type": "code",
   "execution_count": 5,
   "id": "5840aed4-f30d-433d-8639-3b32c7906175",
   "metadata": {},
   "outputs": [],
   "source": [
    "basemaps = {\n",
    "       'Google Terrain': folium.TileLayer(\n",
    "        tiles = 'https://mt1.google.com/vt/lyrs=p&x={x}&y={y}&z={z}',\n",
    "        attr = 'Google',\n",
    "        name = 'Google Terrain',\n",
    "        overlay = False,\n",
    "        control = True\n",
    "       ),\n",
    "        'basemap_gray': folium.TileLayer(\n",
    "            tiles=\"http://services.arcgisonline.com/ArcGIS/rest/services/Canvas/World_Light_Gray_Base/MapServer/tile/{z}/{y}/{x}\",\n",
    "            opacity=1,\n",
    "            name=\"World gray basemap\",\n",
    "            attr=\"ESRI\",\n",
    "            overlay=False\n",
    "        ),\n",
    "        'Imagery': folium.TileLayer(\n",
    "            tiles='https://services.arcgisonline.com/arcgis/rest/services/World_Imagery/MapServer/tile/{z}/{y}/{x}',\n",
    "            opacity=1,\n",
    "            name=\"World Imagery\",\n",
    "            attr=\"ESRI\",\n",
    "            overlay=False\n",
    "        ),\n",
    "        'ESRINatGeo': folium.TileLayer(\n",
    "            tiles='https://server.arcgisonline.com/ArcGIS/rest/services/NatGeo_World_Map/MapServer/tile/{z}/{y}/{x}',\n",
    "            opacity=1,\n",
    "            name='ESRI NatGeo',\n",
    "            attr='ESRI',\n",
    "            overlay=False\n",
    "        )\n",
    "}"
   ]
  },
  {
   "cell_type": "code",
   "execution_count": 6,
   "id": "535c3273-4d6e-4ee3-87c8-6486ee5182db",
   "metadata": {},
   "outputs": [
    {
     "data": {
      "text/html": [
       "<div style=\"width:100%;\"><div style=\"position:relative;width:100%;height:0;padding-bottom:60%;\"><span style=\"color:#565656\">Make this Notebook Trusted to load map: File -> Trust Notebook</span><iframe src=\"about:blank\" style=\"position:absolute;width:100%;height:100%;left:0;top:0;border:none !important;\" data-html=%3C%21DOCTYPE%20html%3E%0A%3Chead%3E%20%20%20%20%0A%20%20%20%20%3Cmeta%20http-equiv%3D%22content-type%22%20content%3D%22text/html%3B%20charset%3DUTF-8%22%20/%3E%0A%20%20%20%20%0A%20%20%20%20%20%20%20%20%3Cscript%3E%0A%20%20%20%20%20%20%20%20%20%20%20%20L_NO_TOUCH%20%3D%20false%3B%0A%20%20%20%20%20%20%20%20%20%20%20%20L_DISABLE_3D%20%3D%20false%3B%0A%20%20%20%20%20%20%20%20%3C/script%3E%0A%20%20%20%20%0A%20%20%20%20%3Cstyle%3Ehtml%2C%20body%20%7Bwidth%3A%20100%25%3Bheight%3A%20100%25%3Bmargin%3A%200%3Bpadding%3A%200%3B%7D%3C/style%3E%0A%20%20%20%20%3Cstyle%3E%23map%20%7Bposition%3Aabsolute%3Btop%3A0%3Bbottom%3A0%3Bright%3A0%3Bleft%3A0%3B%7D%3C/style%3E%0A%20%20%20%20%3Cscript%20src%3D%22https%3A//cdn.jsdelivr.net/npm/leaflet%401.6.0/dist/leaflet.js%22%3E%3C/script%3E%0A%20%20%20%20%3Cscript%20src%3D%22https%3A//code.jquery.com/jquery-1.12.4.min.js%22%3E%3C/script%3E%0A%20%20%20%20%3Cscript%20src%3D%22https%3A//maxcdn.bootstrapcdn.com/bootstrap/3.2.0/js/bootstrap.min.js%22%3E%3C/script%3E%0A%20%20%20%20%3Cscript%20src%3D%22https%3A//cdnjs.cloudflare.com/ajax/libs/Leaflet.awesome-markers/2.0.2/leaflet.awesome-markers.js%22%3E%3C/script%3E%0A%20%20%20%20%3Clink%20rel%3D%22stylesheet%22%20href%3D%22https%3A//cdn.jsdelivr.net/npm/leaflet%401.6.0/dist/leaflet.css%22/%3E%0A%20%20%20%20%3Clink%20rel%3D%22stylesheet%22%20href%3D%22https%3A//maxcdn.bootstrapcdn.com/bootstrap/3.2.0/css/bootstrap.min.css%22/%3E%0A%20%20%20%20%3Clink%20rel%3D%22stylesheet%22%20href%3D%22https%3A//maxcdn.bootstrapcdn.com/bootstrap/3.2.0/css/bootstrap-theme.min.css%22/%3E%0A%20%20%20%20%3Clink%20rel%3D%22stylesheet%22%20href%3D%22https%3A//maxcdn.bootstrapcdn.com/font-awesome/4.6.3/css/font-awesome.min.css%22/%3E%0A%20%20%20%20%3Clink%20rel%3D%22stylesheet%22%20href%3D%22https%3A//cdnjs.cloudflare.com/ajax/libs/Leaflet.awesome-markers/2.0.2/leaflet.awesome-markers.css%22/%3E%0A%20%20%20%20%3Clink%20rel%3D%22stylesheet%22%20href%3D%22https%3A//cdn.jsdelivr.net/gh/python-visualization/folium/folium/templates/leaflet.awesome.rotate.min.css%22/%3E%0A%20%20%20%20%0A%20%20%20%20%20%20%20%20%20%20%20%20%3Cmeta%20name%3D%22viewport%22%20content%3D%22width%3Ddevice-width%2C%0A%20%20%20%20%20%20%20%20%20%20%20%20%20%20%20%20initial-scale%3D1.0%2C%20maximum-scale%3D1.0%2C%20user-scalable%3Dno%22%20/%3E%0A%20%20%20%20%20%20%20%20%20%20%20%20%3Cstyle%3E%0A%20%20%20%20%20%20%20%20%20%20%20%20%20%20%20%20%23map_63020dd7b02445cfa1515576197921e8%20%7B%0A%20%20%20%20%20%20%20%20%20%20%20%20%20%20%20%20%20%20%20%20position%3A%20relative%3B%0A%20%20%20%20%20%20%20%20%20%20%20%20%20%20%20%20%20%20%20%20width%3A%20100.0%25%3B%0A%20%20%20%20%20%20%20%20%20%20%20%20%20%20%20%20%20%20%20%20height%3A%20100.0%25%3B%0A%20%20%20%20%20%20%20%20%20%20%20%20%20%20%20%20%20%20%20%20left%3A%200.0%25%3B%0A%20%20%20%20%20%20%20%20%20%20%20%20%20%20%20%20%20%20%20%20top%3A%200.0%25%3B%0A%20%20%20%20%20%20%20%20%20%20%20%20%20%20%20%20%7D%0A%20%20%20%20%20%20%20%20%20%20%20%20%3C/style%3E%0A%20%20%20%20%20%20%20%20%0A%20%20%20%20%3Cscript%20src%3D%22https%3A//cdnjs.cloudflare.com/ajax/libs/leaflet.fullscreen/1.4.2/Control.FullScreen.min.js%22%3E%3C/script%3E%0A%20%20%20%20%3Clink%20rel%3D%22stylesheet%22%20href%3D%22https%3A//cdnjs.cloudflare.com/ajax/libs/leaflet.fullscreen/1.4.2/Control.FullScreen.min.css%22/%3E%0A%20%20%20%20%3Cscript%20src%3D%22https%3A//unpkg.com/leaflet-control-geocoder/dist/Control.Geocoder.js%22%3E%3C/script%3E%0A%20%20%20%20%3Clink%20rel%3D%22stylesheet%22%20href%3D%22https%3A//unpkg.com/leaflet-control-geocoder/dist/Control.Geocoder.css%22/%3E%0A%20%20%20%20%3Cscript%20src%3D%22https%3A//cdn.jsdelivr.net/gh/ardhi/Leaflet.MousePosition/src/L.Control.MousePosition.min.js%22%3E%3C/script%3E%0A%20%20%20%20%3Clink%20rel%3D%22stylesheet%22%20href%3D%22https%3A//cdn.jsdelivr.net/gh/ardhi/Leaflet.MousePosition/src/L.Control.MousePosition.min.css%22/%3E%0A%3C/head%3E%0A%3Cbody%3E%20%20%20%20%0A%20%20%20%20%0A%20%20%20%20%20%20%20%20%20%20%20%20%3Cdiv%20class%3D%22folium-map%22%20id%3D%22map_63020dd7b02445cfa1515576197921e8%22%20%3E%3C/div%3E%0A%20%20%20%20%20%20%20%20%0A%3C/body%3E%0A%3Cscript%3E%20%20%20%20%0A%20%20%20%20%0A%20%20%20%20%20%20%20%20%20%20%20%20var%20map_63020dd7b02445cfa1515576197921e8%20%3D%20L.map%28%0A%20%20%20%20%20%20%20%20%20%20%20%20%20%20%20%20%22map_63020dd7b02445cfa1515576197921e8%22%2C%0A%20%20%20%20%20%20%20%20%20%20%20%20%20%20%20%20%7B%0A%20%20%20%20%20%20%20%20%20%20%20%20%20%20%20%20%20%20%20%20center%3A%20%5B13.234660396416778%2C%20-14.054706625722918%5D%2C%0A%20%20%20%20%20%20%20%20%20%20%20%20%20%20%20%20%20%20%20%20crs%3A%20L.CRS.EPSG3857%2C%0A%20%20%20%20%20%20%20%20%20%20%20%20%20%20%20%20%20%20%20%20zoom%3A%2016%2C%0A%20%20%20%20%20%20%20%20%20%20%20%20%20%20%20%20%20%20%20%20zoomControl%3A%20true%2C%0A%20%20%20%20%20%20%20%20%20%20%20%20%20%20%20%20%20%20%20%20preferCanvas%3A%20false%2C%0A%20%20%20%20%20%20%20%20%20%20%20%20%20%20%20%20%7D%0A%20%20%20%20%20%20%20%20%20%20%20%20%29%3B%0A%0A%20%20%20%20%20%20%20%20%20%20%20%20%0A%0A%20%20%20%20%20%20%20%20%0A%20%20%20%20%0A%20%20%20%20%20%20%20%20%20%20%20%20var%20tile_layer_68ec4866ebca491c913ab204dd7b6323%20%3D%20L.tileLayer%28%0A%20%20%20%20%20%20%20%20%20%20%20%20%20%20%20%20%22https%3A//mt1.google.com/vt/lyrs%3Ds%5Cu0026x%3D%7Bx%7D%5Cu0026y%3D%7By%7D%5Cu0026z%3D%7Bz%7D%22%2C%0A%20%20%20%20%20%20%20%20%20%20%20%20%20%20%20%20%7B%22attribution%22%3A%20%22Google%22%2C%20%22detectRetina%22%3A%20false%2C%20%22maxNativeZoom%22%3A%2018%2C%20%22maxZoom%22%3A%2018%2C%20%22minZoom%22%3A%200%2C%20%22noWrap%22%3A%20false%2C%20%22opacity%22%3A%201%2C%20%22subdomains%22%3A%20%22abc%22%2C%20%22tms%22%3A%20false%7D%0A%20%20%20%20%20%20%20%20%20%20%20%20%29.addTo%28map_63020dd7b02445cfa1515576197921e8%29%3B%0A%20%20%20%20%20%20%20%20%0A%20%20%20%20%0A%20%20%20%20%20%20%20%20%20%20%20%20var%20marker_ac78cbca05f54fd1bb8fe9fdacfcd68b%20%3D%20L.marker%28%0A%20%20%20%20%20%20%20%20%20%20%20%20%20%20%20%20%5B13.234660396416778%2C%20-14.054706625722918%5D%2C%0A%20%20%20%20%20%20%20%20%20%20%20%20%20%20%20%20%7B%7D%0A%20%20%20%20%20%20%20%20%20%20%20%20%29.addTo%28map_63020dd7b02445cfa1515576197921e8%29%3B%0A%20%20%20%20%20%20%20%20%0A%20%20%20%20%0A%20%20%20%20%20%20%20%20var%20popup_c98ea7705d76454aba0a19b1d50bc887%20%3D%20L.popup%28%7B%22maxWidth%22%3A%20%22100%25%22%7D%29%3B%0A%0A%20%20%20%20%20%20%20%20%0A%20%20%20%20%20%20%20%20%20%20%20%20var%20html_1d44d7fb349e41a29c66672716b52208%20%3D%20%24%28%60%3Cdiv%20id%3D%22html_1d44d7fb349e41a29c66672716b52208%22%20style%3D%22width%3A%20100.0%25%3B%20height%3A%20100.0%25%3B%22%3ETappan01_WV02_20110430_M1BS_103001000A27E100_data%3C/div%3E%60%29%5B0%5D%3B%0A%20%20%20%20%20%20%20%20%20%20%20%20popup_c98ea7705d76454aba0a19b1d50bc887.setContent%28html_1d44d7fb349e41a29c66672716b52208%29%3B%0A%20%20%20%20%20%20%20%20%0A%0A%20%20%20%20%20%20%20%20marker_ac78cbca05f54fd1bb8fe9fdacfcd68b.bindPopup%28popup_c98ea7705d76454aba0a19b1d50bc887%29%0A%20%20%20%20%20%20%20%20%3B%0A%0A%20%20%20%20%20%20%20%20%0A%20%20%20%20%0A%20%20%20%20%0A%20%20%20%20%20%20%20%20%20%20%20%20var%20feature_group_7822ca931b63487c8bb9fd9b56e18ed1%20%3D%20L.featureGroup%28%0A%20%20%20%20%20%20%20%20%20%20%20%20%20%20%20%20%7B%7D%0A%20%20%20%20%20%20%20%20%20%20%20%20%29.addTo%28map_63020dd7b02445cfa1515576197921e8%29%3B%0A%20%20%20%20%20%20%20%20%0A%20%20%20%20%0A%20%20%20%20%20%20%20%20%20%20%20%20var%20tile_layer_142566978eef4c7bae1db447ab736d3e%20%3D%20L.tileLayer%28%0A%20%20%20%20%20%20%20%20%20%20%20%20%20%20%20%20%22/jupyterhub-prism/user/jacaraba//proxy/39457/api/tiles/%7Bz%7D/%7Bx%7D/%7By%7D.png%3F%5Cu0026filename%3D%252Fadapt%252Fnobackup%252Fprojects%252F3sl%252Fdata%252FTappan%252FTappan01_WV02_20110430_M1BS_103001000A27E100_data.tif%5Cu0026n_colors%3D255%5Cu0026projection%3DEPSG%253A3857%22%2C%0A%20%20%20%20%20%20%20%20%20%20%20%20%20%20%20%20%7B%22attribution%22%3A%20%22Raster%20file%20served%20by%20%5Cu003ca%20href%3D%5Cu0027https%3A//github.com/banesullivan/localtileserver%5Cu0027%20target%3D%5Cu0027_blank%5Cu0027%5Cu003elocaltileserver%5Cu003c/a%5Cu003e.%22%2C%20%22detectRetina%22%3A%20false%2C%20%22maxNativeZoom%22%3A%2018%2C%20%22maxZoom%22%3A%2018%2C%20%22minZoom%22%3A%200%2C%20%22noWrap%22%3A%20false%2C%20%22opacity%22%3A%201%2C%20%22subdomains%22%3A%20%22abc%22%2C%20%22tms%22%3A%20false%7D%0A%20%20%20%20%20%20%20%20%20%20%20%20%29.addTo%28feature_group_7822ca931b63487c8bb9fd9b56e18ed1%29%3B%0A%20%20%20%20%20%20%20%20%0A%20%20%20%20%0A%20%20%20%20%20%20%20%20%20%20%20%20var%20feature_group_59f23b0bd6374fd28b6839100cdb95c8%20%3D%20L.featureGroup%28%0A%20%20%20%20%20%20%20%20%20%20%20%20%20%20%20%20%7B%7D%0A%20%20%20%20%20%20%20%20%20%20%20%20%29.addTo%28map_63020dd7b02445cfa1515576197921e8%29%3B%0A%20%20%20%20%20%20%20%20%0A%20%20%20%20%0A%20%20%20%20%20%20%20%20%20%20%20%20var%20tile_layer_5557081952664820888715ff0cd3653f%20%3D%20L.tileLayer%28%0A%20%20%20%20%20%20%20%20%20%20%20%20%20%20%20%20%22/jupyterhub-prism/user/jacaraba//proxy/39457/api/tiles/%7Bz%7D/%7Bx%7D/%7By%7D.png%3F%5Cu0026filename%3D%252Fadapt%252Fnobackup%252Fprojects%252Filab%252Fprojects%252FSenegal%252F3sl%252Fproducts%252Fland_cover%252Fdev%252Ftrees.v2%252FTappan%252FTappan01_WV02_20110430_M1BS_103001000A27E100_data.trees.tif%5Cu0026palette%3DGreens%5Cu0026n_colors%3D255%5Cu0026projection%3DEPSG%253A3857%22%2C%0A%20%20%20%20%20%20%20%20%20%20%20%20%20%20%20%20%7B%22attribution%22%3A%20%22Raster%20file%20served%20by%20%5Cu003ca%20href%3D%5Cu0027https%3A//github.com/banesullivan/localtileserver%5Cu0027%20target%3D%5Cu0027_blank%5Cu0027%5Cu003elocaltileserver%5Cu003c/a%5Cu003e.%22%2C%20%22detectRetina%22%3A%20false%2C%20%22maxNativeZoom%22%3A%2018%2C%20%22maxZoom%22%3A%2018%2C%20%22minZoom%22%3A%200%2C%20%22noWrap%22%3A%20false%2C%20%22opacity%22%3A%200.6%2C%20%22subdomains%22%3A%20%22abc%22%2C%20%22tms%22%3A%20false%7D%0A%20%20%20%20%20%20%20%20%20%20%20%20%29.addTo%28feature_group_59f23b0bd6374fd28b6839100cdb95c8%29%3B%0A%20%20%20%20%20%20%20%20%0A%20%20%20%20%0A%20%20%20%20%20%20%20%20%20%20%20%20var%20feature_group_455375c2544c451189c278f9632d4619%20%3D%20L.featureGroup%28%0A%20%20%20%20%20%20%20%20%20%20%20%20%20%20%20%20%7B%7D%0A%20%20%20%20%20%20%20%20%20%20%20%20%29.addTo%28map_63020dd7b02445cfa1515576197921e8%29%3B%0A%20%20%20%20%20%20%20%20%0A%20%20%20%20%0A%20%20%20%20%20%20%20%20%20%20%20%20var%20tile_layer_22a72ffbc80d40d0bace40e1cf3f4bdb%20%3D%20L.tileLayer%28%0A%20%20%20%20%20%20%20%20%20%20%20%20%20%20%20%20%22/jupyterhub-prism/user/jacaraba//proxy/39457/api/tiles/%7Bz%7D/%7Bx%7D/%7By%7D.png%3F%5Cu0026filename%3D%252Fadapt%252Fnobackup%252Fprojects%252Filab%252Fprojects%252FSenegal%252FCNN_CHM%252Fv4%252Foutput%252FTappan01_WV02_20110430_M1BS_103001000A27E100_data.2m_chm.tif%5Cu0026palette%3DGreens%5Cu0026n_colors%3D255%5Cu0026projection%3DEPSG%253A3857%22%2C%0A%20%20%20%20%20%20%20%20%20%20%20%20%20%20%20%20%7B%22attribution%22%3A%20%22Raster%20file%20served%20by%20%5Cu003ca%20href%3D%5Cu0027https%3A//github.com/banesullivan/localtileserver%5Cu0027%20target%3D%5Cu0027_blank%5Cu0027%5Cu003elocaltileserver%5Cu003c/a%5Cu003e.%22%2C%20%22detectRetina%22%3A%20false%2C%20%22maxNativeZoom%22%3A%2018%2C%20%22maxZoom%22%3A%2018%2C%20%22minZoom%22%3A%200%2C%20%22noWrap%22%3A%20false%2C%20%22opacity%22%3A%200.6%2C%20%22subdomains%22%3A%20%22abc%22%2C%20%22tms%22%3A%20false%7D%0A%20%20%20%20%20%20%20%20%20%20%20%20%29.addTo%28feature_group_455375c2544c451189c278f9632d4619%29%3B%0A%20%20%20%20%20%20%20%20%0A%20%20%20%20%0A%20%20%20%20%20%20%20%20%20%20%20%20L.control.fullscreen%28%0A%20%20%20%20%20%20%20%20%20%20%20%20%20%20%20%20%7B%22forceSeparateButton%22%3A%20false%2C%20%22position%22%3A%20%22topleft%22%2C%20%22title%22%3A%20%22Full%20Screen%22%2C%20%22titleCancel%22%3A%20%22Exit%20Full%20Screen%22%7D%0A%20%20%20%20%20%20%20%20%20%20%20%20%29.addTo%28map_63020dd7b02445cfa1515576197921e8%29%3B%0A%20%20%20%20%20%20%20%20%0A%20%20%20%20%0A%20%20%20%20%20%20%20%20%20%20%20%20L.Control.geocoder%28%0A%20%20%20%20%20%20%20%20%20%20%20%20%20%20%20%20%7B%22collapsed%22%3A%20false%2C%20%22defaultMarkGeocode%22%3A%20true%2C%20%22position%22%3A%20%22topright%22%7D%0A%20%20%20%20%20%20%20%20%20%20%20%20%29.on%28%27markgeocode%27%2C%20function%28e%29%20%7B%0A%20%20%20%20%20%20%20%20%20%20%20%20%20%20%20%20map_63020dd7b02445cfa1515576197921e8.setView%28e.geocode.center%2C%2011%29%3B%0A%20%20%20%20%20%20%20%20%20%20%20%20%7D%29.addTo%28map_63020dd7b02445cfa1515576197921e8%29%3B%0A%0A%20%20%20%20%20%20%20%20%0A%20%20%20%20%0A%20%20%20%20%20%20%20%20%20%20%20%20var%20mouse_position_0bb63f67f2e0466db5ed9b0344850862%20%3D%20new%20L.Control.MousePosition%28%0A%20%20%20%20%20%20%20%20%20%20%20%20%20%20%20%20%7B%22emptyString%22%3A%20%22Unavailable%22%2C%20%22lngFirst%22%3A%20false%2C%20%22numDigits%22%3A%205%2C%20%22position%22%3A%20%22bottomright%22%2C%20%22prefix%22%3A%20%22%22%2C%20%22separator%22%3A%20%22%20%3A%20%22%7D%0A%20%20%20%20%20%20%20%20%20%20%20%20%29%3B%0A%20%20%20%20%20%20%20%20%20%20%20%20mouse_position_0bb63f67f2e0466db5ed9b0344850862.options%5B%22latFormatter%22%5D%20%3D%0A%20%20%20%20%20%20%20%20%20%20%20%20%20%20%20%20undefined%3B%0A%20%20%20%20%20%20%20%20%20%20%20%20mouse_position_0bb63f67f2e0466db5ed9b0344850862.options%5B%22lngFormatter%22%5D%20%3D%0A%20%20%20%20%20%20%20%20%20%20%20%20%20%20%20%20undefined%3B%0A%20%20%20%20%20%20%20%20%20%20%20%20map_63020dd7b02445cfa1515576197921e8.addControl%28mouse_position_0bb63f67f2e0466db5ed9b0344850862%29%3B%0A%20%20%20%20%20%20%20%20%0A%20%20%20%20%0A%20%20%20%20%20%20%20%20%20%20%20%20var%20layer_control_bc38ad99bb674a07a1d2b97461ddf07f%20%3D%20%7B%0A%20%20%20%20%20%20%20%20%20%20%20%20%20%20%20%20base_layers%20%3A%20%7B%0A%20%20%20%20%20%20%20%20%20%20%20%20%20%20%20%20%20%20%20%20%22https%3A//mt1.google.com/vt/lyrs%3Ds%5Cu0026x%3D%7Bx%7D%5Cu0026y%3D%7By%7D%5Cu0026z%3D%7Bz%7D%22%20%3A%20tile_layer_68ec4866ebca491c913ab204dd7b6323%2C%0A%20%20%20%20%20%20%20%20%20%20%20%20%20%20%20%20%7D%2C%0A%20%20%20%20%20%20%20%20%20%20%20%20%20%20%20%20overlays%20%3A%20%20%7B%0A%20%20%20%20%20%20%20%20%20%20%20%20%20%20%20%20%20%20%20%20%22EVHR%20TOA%22%20%3A%20feature_group_7822ca931b63487c8bb9fd9b56e18ed1%2C%0A%20%20%20%20%20%20%20%20%20%20%20%20%20%20%20%20%20%20%20%20%22Trees%22%20%3A%20feature_group_59f23b0bd6374fd28b6839100cdb95c8%2C%0A%20%20%20%20%20%20%20%20%20%20%20%20%20%20%20%20%20%20%20%20%22CHM%22%20%3A%20feature_group_455375c2544c451189c278f9632d4619%2C%0A%20%20%20%20%20%20%20%20%20%20%20%20%20%20%20%20%7D%2C%0A%20%20%20%20%20%20%20%20%20%20%20%20%7D%3B%0A%20%20%20%20%20%20%20%20%20%20%20%20L.control.layers%28%0A%20%20%20%20%20%20%20%20%20%20%20%20%20%20%20%20layer_control_bc38ad99bb674a07a1d2b97461ddf07f.base_layers%2C%0A%20%20%20%20%20%20%20%20%20%20%20%20%20%20%20%20layer_control_bc38ad99bb674a07a1d2b97461ddf07f.overlays%2C%0A%20%20%20%20%20%20%20%20%20%20%20%20%20%20%20%20%7B%22autoZIndex%22%3A%20true%2C%20%22collapsed%22%3A%20true%2C%20%22position%22%3A%20%22topright%22%7D%0A%20%20%20%20%20%20%20%20%20%20%20%20%29.addTo%28map_63020dd7b02445cfa1515576197921e8%29%3B%0A%20%20%20%20%20%20%20%20%0A%3C/script%3E onload=\"this.contentDocument.open();this.contentDocument.write(    decodeURIComponent(this.getAttribute('data-html')));this.contentDocument.close();\" allowfullscreen webkitallowfullscreen mozallowfullscreen></iframe></div></div>"
      ],
      "text/plain": [
       "<folium.folium.Map at 0x14dbd7d9a750>"
      ]
     },
     "execution_count": 6,
     "metadata": {},
     "output_type": "execute_result"
    }
   ],
   "source": [
    "# Client - initial client to localize zoom\n",
    "data_client = TileClient(data_filenames[0])\n",
    "\n",
    "# Map the Layers\n",
    "folium_map = folium.Map(\n",
    "    location=data_client.center(),\n",
    "    zoom_start=16,\n",
    "    tiles='https://mt1.google.com/vt/lyrs=s&x={x}&y={y}&z={z}',\n",
    "    attr='Google'\n",
    ")\n",
    "\n",
    "# TODO: feature groups can be further divided in years\n",
    "feature_group_data = folium.FeatureGroup(name='EVHR TOA')\n",
    "feature_group_landcover = folium.FeatureGroup(name='Trees')\n",
    "feature_group_chm = folium.FeatureGroup(name='CHM')\n",
    "\n",
    "for data_filename, landcover_filename, chm_filename in zip(\n",
    "    data_filenames[:1], landcover_filenames[:1], chm_filenames[:1]):\n",
    "    \n",
    "    # client for data tile\n",
    "    data_client = TileClient(data_filename)\n",
    "    \n",
    "    # client for landcover tile\n",
    "    landcover_client = TileClient(landcover_filename)\n",
    "    \n",
    "    # client for chm tile\n",
    "    chm_client = TileClient(chm_filename)\n",
    "    \n",
    "    # group all data layers into one single control\n",
    "    feature_group_data.add_child(\n",
    "        get_folium_tile_layer(data_client))\n",
    "    \n",
    "    # group all landcover layers into one single control\n",
    "    feature_group_landcover.add_child(\n",
    "        get_folium_tile_layer(landcover_client, cmap='Greens', opacity=0.6))\n",
    "    \n",
    "    # group all chm layers into one single control\n",
    "    feature_group_chm.add_child(\n",
    "        get_folium_tile_layer(chm_client, cmap='Greens', opacity=0.6))\n",
    "    \n",
    "    # add a marker per location\n",
    "    folium.Marker(\n",
    "        data_client.center(), popup=Path(data_filename).stem).add_to(folium_map)\n",
    "\n",
    "folium_map.add_child(feature_group_data)\n",
    "folium_map.add_child(feature_group_landcover)\n",
    "folium_map.add_child(feature_group_chm)\n",
    "\n",
    "#popup = folium.Popup()\n",
    "#folium.VegaLite(json.loads(chart.to_json()), width=\"100%\", height=\"100%\").add_to(popup)\n",
    "\n",
    "#folium.Marker(\n",
    "#    [\n",
    "#        data_filenames_bounds['center'][1],\n",
    "#        data_filenames_bounds['center'][0]\n",
    "#    ],\n",
    "#).add_to(folium_map)\n",
    "\n",
    "folium_map.add_child(plugins.Fullscreen())\n",
    "folium_map.add_child(plugins.Geocoder())\n",
    "folium_map.add_child(plugins.MousePosition())\n",
    "folium_map.add_child(folium.LayerControl())\n",
    "\n",
    "folium_map"
   ]
  },
  {
   "cell_type": "markdown",
   "id": "8b9f4eb6-5736-432a-b386-877b7aa89648",
   "metadata": {},
   "source": [
    "## Define Generic Help Functions\n",
    "\n",
    "In this section we transform the data and plot."
   ]
  },
  {
   "cell_type": "code",
   "execution_count": 7,
   "id": "3cebdb15-a159-4a0f-ad5d-dfb00d321305",
   "metadata": {},
   "outputs": [
    {
     "data": {
      "text/plain": [
       "\"\\n# Client - initial client to localize zoom\\ndata_client = TileClient(data_filenames[0])\\n\\n# Map the Layers\\nfolium_map = folium.Map(\\n    location=data_client.center(),\\n    zoom_start=16,\\n    tiles='https://mt1.google.com/vt/lyrs=s&x={x}&y={y}&z={z}',\\n    attr='Google'\\n)\\n\\n# Iterate over each item for specific dates\\nfor date_key in filenames_metadata:\\n\\n    print(f'Processed year: {date_key}')\\n    \\n    # Divide feature groups into year\\n    feature_group_data = folium.FeatureGroup(name=f'EVHR TOA - {date_key}')\\n    feature_group_landcover = folium.FeatureGroup(name=f'Trees - {date_key}')\\n    feature_group_chm = folium.FeatureGroup(name=f'CHM - {date_key}')\\n\\n    # iterate over data files\\n    for raster_id in filenames_metadata[date_key]:\\n        \\n        # client for data tile\\n        data_client = TileClient(raster_id['data_layer'])\\n    \\n        # client for landcover tile\\n        landcover_client = TileClient(raster_id['landcover_layer'])\\n\\n        # client for chm tile\\n        chm_client = TileClient(raster_id['chm_layer'])\\n    \\n        # group all data layers into one single control\\n        feature_group_data.add_child(\\n            get_folium_tile_layer(data_client))\\n    \\n        # group all landcover layers into one single control\\n        feature_group_landcover.add_child(\\n            get_folium_tile_layer(landcover_client, cmap='Greens', opacity=0.6))\\n    \\n        # group all chm layers into one single control\\n        feature_group_chm.add_child(\\n            get_folium_tile_layer(chm_client, cmap='Greens', opacity=0.6))\\n    \\n        # add a marker per location\\n        folium.Marker(\\n            data_client.center(), popup=Path(raster_id['data_layer']).stem\\n        ).add_to(folium_map)\\n    \\n    folium_map.add_child(feature_group_data)\\n    folium_map.add_child(feature_group_landcover)\\n    folium_map.add_child(feature_group_chm)\\n\\nfolium_map.add_child(plugins.Fullscreen())\\nfolium_map.add_child(plugins.Geocoder())\\nfolium_map.add_child(plugins.MousePosition())\\nfolium_map.add_child(folium.LayerControl())\\n\\nfolium_map\\n\""
      ]
     },
     "execution_count": 7,
     "metadata": {},
     "output_type": "execute_result"
    }
   ],
   "source": [
    "\"\"\"\n",
    "# Client - initial client to localize zoom\n",
    "data_client = TileClient(data_filenames[0])\n",
    "\n",
    "# Map the Layers\n",
    "folium_map = folium.Map(\n",
    "    location=data_client.center(),\n",
    "    zoom_start=16,\n",
    "    tiles='https://mt1.google.com/vt/lyrs=s&x={x}&y={y}&z={z}',\n",
    "    attr='Google'\n",
    ")\n",
    "\n",
    "# Iterate over each item for specific dates\n",
    "for date_key in filenames_metadata:\n",
    "\n",
    "    print(f'Processed year: {date_key}')\n",
    "    \n",
    "    # Divide feature groups into year\n",
    "    feature_group_data = folium.FeatureGroup(name=f'EVHR TOA - {date_key}')\n",
    "    feature_group_landcover = folium.FeatureGroup(name=f'Trees - {date_key}')\n",
    "    feature_group_chm = folium.FeatureGroup(name=f'CHM - {date_key}')\n",
    "\n",
    "    # iterate over data files\n",
    "    for raster_id in filenames_metadata[date_key]:\n",
    "        \n",
    "        # client for data tile\n",
    "        data_client = TileClient(raster_id['data_layer'])\n",
    "    \n",
    "        # client for landcover tile\n",
    "        landcover_client = TileClient(raster_id['landcover_layer'])\n",
    "\n",
    "        # client for chm tile\n",
    "        chm_client = TileClient(raster_id['chm_layer'])\n",
    "    \n",
    "        # group all data layers into one single control\n",
    "        feature_group_data.add_child(\n",
    "            get_folium_tile_layer(data_client, show=False))\n",
    "    \n",
    "        # group all landcover layers into one single control\n",
    "        feature_group_landcover.add_child(\n",
    "            get_folium_tile_layer(landcover_client, cmap='Greens', opacity=0.6, show=False))\n",
    "    \n",
    "        # group all chm layers into one single control\n",
    "        feature_group_chm.add_child(\n",
    "            get_folium_tile_layer(chm_client, cmap='Greens', opacity=0.6, show=False))\n",
    "    \n",
    "        # add a marker per location\n",
    "        folium.Marker(\n",
    "            data_client.center(), popup=Path(raster_id['data_layer']).stem\n",
    "        ).add_to(folium_map)\n",
    "    \n",
    "    folium_map.add_child(feature_group_data)\n",
    "    folium_map.add_child(feature_group_landcover)\n",
    "    folium_map.add_child(feature_group_chm)\n",
    "\n",
    "folium_map.add_child(plugins.Fullscreen())\n",
    "folium_map.add_child(plugins.Geocoder())\n",
    "folium_map.add_child(plugins.MousePosition())\n",
    "folium_map.add_child(folium.LayerControl())\n",
    "\n",
    "folium_map\n",
    "\"\"\""
   ]
  },
  {
   "cell_type": "code",
   "execution_count": null,
   "id": "4550225b-5acc-4ddb-a508-def7a5eb5800",
   "metadata": {},
   "outputs": [],
   "source": []
  }
 ],
 "metadata": {
  "kernelspec": {
   "display_name": "ilab-kernel",
   "language": "python",
   "name": "python3"
  },
  "language_info": {
   "codemirror_mode": {
    "name": "ipython",
    "version": 3
   },
   "file_extension": ".py",
   "mimetype": "text/x-python",
   "name": "python",
   "nbconvert_exporter": "python",
   "pygments_lexer": "ipython3",
   "version": "3.7.12"
  }
 },
 "nbformat": 4,
 "nbformat_minor": 5
}
