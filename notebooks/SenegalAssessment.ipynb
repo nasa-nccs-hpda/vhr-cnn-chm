{
 "cells": [
  {
   "cell_type": "markdown",
   "id": "35515691-eb20-4a1e-9463-e44bf8f56c45",
   "metadata": {},
   "source": [
    "# Senegal Assessment Notebook\n",
    "\n",
    "Notebook to perform assessment of CHM and Land Cover results over senegal.\n",
    "\n",
    "## TODO\n",
    "\n",
    "- Add marker of imagery based on year options\n",
    "- Add marker of imagery and zoom into overlay raster\n",
    "- Add marker of imagery and push on and off landcover layers\n",
    "- Marker with histogram, super-imposing the histograms\n",
    "- Plot multiple images\n",
    "\n",
    "## Define data paths\n",
    "\n",
    "Here we define data path with regexs."
   ]
  },
  {
   "cell_type": "code",
   "execution_count": 1,
   "id": "1ab3682f-5b2d-4594-b561-512ff6712f34",
   "metadata": {},
   "outputs": [],
   "source": [
    "import os\n",
    "import tempfile\n",
    "import folium\n",
    "import numpy as np\n",
    "import rasterio as rio\n",
    "import ipywidgets as widgets\n",
    "import branca.colormap as cm\n",
    "import matplotlib.pyplot as plt\n",
    "import pandas as pd\n",
    "import altair as alt\n",
    "import json\n",
    "\n",
    "from glob import glob\n",
    "from folium import plugins\n",
    "from pyproj import Transformer \n",
    "from rasterio.warp import calculate_default_transform, reproject, Resampling\n",
    "\n",
    "os.environ['LOCALTILESERVER_CLIENT_PREFIX'] = \\\n",
    "    f\"{os.environ['JUPYTERHUB_SERVICE_PREFIX'].lstrip('/')}/proxy/{{port}}\"\n",
    "\n",
    "from localtileserver import get_folium_tile_layer, TileClient"
   ]
  },
  {
   "cell_type": "code",
   "execution_count": 2,
   "id": "44834770-f583-4e18-8c9d-d61aafd492fd",
   "metadata": {},
   "outputs": [],
   "source": [
    "data_bands = [5, 2, 7]\n",
    "data_dir = '/adapt/nobackup/projects/3sl/data/Tappan/*_data.tif'\n",
    "landcover_dir = '/adapt/nobackup/projects/ilab/projects/Senegal/3sl/products/land_cover/dev/trees.v2/Tappan/*.tif'\n",
    "chm_dir = '/adapt/nobackup/projects/ilab/projects/Senegal/CNN_CHM/v4/output/*.tif'"
   ]
  },
  {
   "cell_type": "markdown",
   "id": "1f1f340c-bcb6-4e0c-986c-748405a3a8c7",
   "metadata": {},
   "source": [
    "Then, we generate lists out of the files available on the dirs."
   ]
  },
  {
   "cell_type": "code",
   "execution_count": 3,
   "id": "3758552d-1bc0-4997-b263-cd399a22d42a",
   "metadata": {},
   "outputs": [
    {
     "name": "stdout",
     "output_type": "stream",
     "text": [
      "272 272 272\n"
     ]
    }
   ],
   "source": [
    "data_filenames = sorted(glob(data_dir))\n",
    "landcover_filenames = sorted(glob(landcover_dir))\n",
    "chm_filenames = sorted(glob(chm_dir))\n",
    "print(len(data_filenames), len(landcover_filenames), len(chm_filenames))"
   ]
  },
  {
   "cell_type": "markdown",
   "id": "b1e374fa-7d2b-49d8-afd4-8a390c5816da",
   "metadata": {},
   "source": [
    "## Define basemaps for later use\n",
    "\n",
    "Here we define basemaps for use with folium on the backend."
   ]
  },
  {
   "cell_type": "code",
   "execution_count": 4,
   "id": "5840aed4-f30d-433d-8639-3b32c7906175",
   "metadata": {},
   "outputs": [],
   "source": [
    "basemaps = {\n",
    "       'Google Terrain': folium.TileLayer(\n",
    "        tiles = 'https://mt1.google.com/vt/lyrs=p&x={x}&y={y}&z={z}',\n",
    "        attr = 'Google',\n",
    "        name = 'Google Terrain',\n",
    "        overlay = False,\n",
    "        control = True\n",
    "       ),\n",
    "        'basemap_gray': folium.TileLayer(\n",
    "            tiles=\"http://services.arcgisonline.com/ArcGIS/rest/services/Canvas/World_Light_Gray_Base/MapServer/tile/{z}/{y}/{x}\",\n",
    "            opacity=1,\n",
    "            name=\"World gray basemap\",\n",
    "            attr=\"ESRI\",\n",
    "            overlay=False\n",
    "        ),\n",
    "        'Imagery': folium.TileLayer(\n",
    "            tiles='https://services.arcgisonline.com/arcgis/rest/services/World_Imagery/MapServer/tile/{z}/{y}/{x}',\n",
    "            opacity=1,\n",
    "            name=\"World Imagery\",\n",
    "            attr=\"ESRI\",\n",
    "            overlay=False\n",
    "        ),\n",
    "        'ESRINatGeo': folium.TileLayer(\n",
    "            tiles='https://server.arcgisonline.com/ArcGIS/rest/services/NatGeo_World_Map/MapServer/tile/{z}/{y}/{x}',\n",
    "            opacity=1,\n",
    "            name='ESRI NatGeo',\n",
    "            attr='ESRI',\n",
    "            overlay=False\n",
    "        )\n",
    "}"
   ]
  },
  {
   "cell_type": "markdown",
   "id": "8b9f4eb6-5736-432a-b386-877b7aa89648",
   "metadata": {},
   "source": [
    "## Define Generic Help Functions\n",
    "\n",
    "In this section we transform the data and plot."
   ]
  },
  {
   "cell_type": "code",
   "execution_count": null,
   "id": "3c127c5e-776f-4833-998c-4d12d7187a7d",
   "metadata": {},
   "outputs": [],
   "source": [
    "def reproject_raster(input_tiff, dst_crs=f\"EPSG:3857\"):\n",
    "    \"\"\"\n",
    "    Reproject raster.\n",
    "    \"\"\"\n",
    "    # set out path\n",
    "    out_path_rproj = os.path.join(\n",
    "        tempfile.gettempdir(),\n",
    "        input_tiff.split('/')[-1].replace('.tif','.reprojected.tif')\n",
    "    )\n",
    "\n",
    "    with rio.open(input_tiff) as src:\n",
    "    \n",
    "        # get src bounds and transform\n",
    "        transform, width, height = calculate_default_transform(\n",
    "            src.crs, dst_crs, src.width, src.height, *src.bounds)\n",
    "        print(width, height)\n",
    "        kwargs = src.meta.copy()\n",
    "        kwargs.update(\n",
    "            {\n",
    "                'crs': dst_crs,\n",
    "                'transform': transform,\n",
    "                'width': width,\n",
    "                'height': height\n",
    "        })\n",
    "    \n",
    "        # reproject and write to file\n",
    "        with rio.open(out_path_rproj, 'w', **kwargs) as dst:\n",
    "            for i in range(1, src.count + 1):\n",
    "                reproject(source=rio.band(src, i),\n",
    "                      destination=rio.band(dst, i),\n",
    "                      src_transform=src.transform,\n",
    "                      src_crs=src.crs,\n",
    "                      dst_transform=transform,\n",
    "                      dst_crs=dst_crs,\n",
    "                      resampling=Resampling.nearest)\n",
    "    \n",
    "    return out_path_rproj\n",
    "\n",
    "def get_bounds(tiff_3857):\n",
    "    with rio.open(tiff_3857) as src:\n",
    "        src_crs = src.crs['init'].upper()\n",
    "        min_lon, min_lat, max_lon, max_lat = src.bounds\n",
    "    bounds_orig = [[min_lat, min_lon], [max_lat, max_lon]]\n",
    "    bounds = []\n",
    "    dst_crs = 'EPSG:4326'\n",
    "    for item in bounds_orig:   \n",
    "        #converting to lat/lon\n",
    "        lat = item[0]\n",
    "        lon = item[1]\n",
    "        proj = Transformer.from_crs(\n",
    "            int(src_crs.split(\":\")[1]), int(dst_crs.split(\":\")[1]), always_xy=True)\n",
    "        lon_n, lat_n = proj.transform(lon, lat)\n",
    "        bounds.append([lat_n, lon_n])\n",
    "    center_lon = bounds[0][1] + (bounds[1][1] - bounds[0][1])/2\n",
    "    center_lat = bounds[0][0] + (bounds[1][0] - bounds[0][0])/2\n",
    "    return {'bounds': bounds, 'center': (center_lon, center_lat)}\n",
    "\n",
    "def open_and_get_band(file_name, band_num=1):\n",
    "    with rio.open(file_name) as data:\n",
    "        b = data.read(band_num)\n",
    "    return b\n",
    "\n",
    "def get_overlay(band, meta_dict, name, opacity=1.0, show=True, colormap=None):\n",
    "    if colormap is not None:\n",
    "        return folium.raster_layers.ImageOverlay(\n",
    "            band, bounds=meta_dict['bounds'], \n",
    "            name=name, opacity=opacity, show=show, colormap=plt.get_cmap('YlGn'))\n",
    "    else:\n",
    "        return folium.raster_layers.ImageOverlay(\n",
    "            band, bounds=meta_dict['bounds'], \n",
    "            name=name, opacity=opacity, show=show)\n",
    "\n",
    "def cleanup(filename):\n",
    "    if os.path.exists(filename):\n",
    "        os.remove(filename)\n",
    "    else:\n",
    "        print('No file: {} exists.'.format(filename))"
   ]
  },
  {
   "cell_type": "markdown",
   "id": "b71d8869-5e00-4c86-b7d2-71343f48f354",
   "metadata": {},
   "source": [
    "## Modify Data and Plot\n",
    "\n",
    "In this section we transform the data and plot."
   ]
  },
  {
   "cell_type": "code",
   "execution_count": null,
   "id": "bb945edd-b642-4e53-a75d-7dea84417c03",
   "metadata": {},
   "outputs": [],
   "source": [
    "#data_filenames_3857 = []\n",
    "#landcover_filenames_3857 = []\n",
    "#chm_filenames_3857 = []\n",
    "#for d, l, c in zip(data_filenames, landcover_filenames, chm_filenames):    \n",
    "#    data_filenames_3857.append(reproject_raster(d))\n",
    "#    landcover_filenames_3857.append(reproject_raster(l))\n",
    "#    chm_filenames_3857.append(reproject_raster(c))\n",
    "data_filenames_3857 = reproject_raster(data_filenames[0])\n",
    "landcover_filenames_3857 = reproject_raster(landcover_filenames[0])\n",
    "chm_filenames_3857 = reproject_raster(chm_filenames[0])"
   ]
  },
  {
   "cell_type": "markdown",
   "id": "bc73167d-62d0-4a58-bfab-335e228feea9",
   "metadata": {},
   "source": [
    "Then we take the temporary bounds."
   ]
  },
  {
   "cell_type": "code",
   "execution_count": null,
   "id": "bb9d9fb4-386e-43e5-8312-698502c42598",
   "metadata": {},
   "outputs": [],
   "source": [
    "data_filenames_bounds = get_bounds(data_filenames_3857)\n",
    "landcover_filenames_bounds = get_bounds(landcover_filenames_3857)\n",
    "chm_filenames_bounds = get_bounds(chm_filenames_3857)\n",
    "print(data_filenames_bounds, landcover_filenames_bounds, chm_filenames_bounds)"
   ]
  },
  {
   "cell_type": "markdown",
   "id": "c7d2d185-f19a-46da-a810-1af6ce1a508f",
   "metadata": {},
   "source": [
    "Then we open the data rasters."
   ]
  },
  {
   "cell_type": "code",
   "execution_count": null,
   "id": "f6a2e018-1135-43d3-9042-5b2ca385e0ea",
   "metadata": {},
   "outputs": [],
   "source": [
    "data_filenames_mask = open_and_get_band(data_filenames_3857, data_bands)\n",
    "landcover_filenames_mask = open_and_get_band(landcover_filenames_3857, 1)\n",
    "chm_filenames_mask = open_and_get_band(chm_filenames_3857, 1)\n",
    "print(data_filenames_mask.max(), landcover_filenames_mask.max(), chm_filenames_mask.max())"
   ]
  },
  {
   "cell_type": "code",
   "execution_count": null,
   "id": "ec191c61-0917-4a13-b3c9-694a76746b8d",
   "metadata": {},
   "outputs": [],
   "source": [
    "zeros = np.zeros_like(landcover_filenames_mask)\n",
    "data_mask_rgb = np.moveaxis(data_filenames_mask, 0, -1)\n",
    "landcover_mask_rgb = np.dstack((zeros, landcover_filenames_mask, zeros))\n",
    "#chm_mask_rgb = chm_filenames_mask  # np.dstack((zeros, zeros, chm_filenames_mask))\n",
    "chm_filenames_mask[chm_filenames_mask < 0] = 0\n",
    "chm_mask_rgb = chm_filenames_mask\n",
    "print(data_mask_rgb.max(), landcover_mask_rgb.max(), chm_mask_rgb.max())"
   ]
  },
  {
   "cell_type": "code",
   "execution_count": null,
   "id": "12f18aa9-d95a-44b8-9700-b5923fbc1096",
   "metadata": {},
   "outputs": [],
   "source": [
    "# histogram\n",
    "\n",
    "testing_histogram = chm_mask_rgb\n",
    "testing_histogram = testing_histogram.flatten()\n",
    "testing_histogram = testing_histogram[testing_histogram != 0][:5000]\n",
    "testing_histogram.shape\n",
    "\n",
    "# Generating Data\n",
    "source = pd.DataFrame({\n",
    "    'CHM': testing_histogram,\n",
    "})\n",
    "\n",
    "chart = alt.Chart(source).transform_fold(\n",
    "    ['CHM'],\n",
    "    as_=['Experiment', 'Measurement']\n",
    ").mark_bar(\n",
    "    opacity=0.3,\n",
    "    binSpacing=0\n",
    ").encode(\n",
    "    alt.X('Measurement:Q', bin=alt.Bin(maxbins=100)),\n",
    "    alt.Y('count()', stack=None),\n",
    "    #alt.Color('Experiment:N')\n",
    ")\n",
    "chart_2 = json.loads(chart.to_json())\n",
    "chart"
   ]
  },
  {
   "cell_type": "markdown",
   "id": "788ab2b6-34a2-4b31-8e66-8791806aea20",
   "metadata": {},
   "source": [
    "Here we create the general object for the folium map."
   ]
  },
  {
   "cell_type": "code",
   "execution_count": null,
   "id": "91cd4276-8bbb-45ba-ab88-dc4e2376d3ed",
   "metadata": {},
   "outputs": [],
   "source": [
    "# Map the Layers\n",
    "map_figure = folium.Figure(width=1000, height=400)\n",
    "folium_map = folium.Map(\n",
    "    [landcover_filenames_bounds['center'][1], landcover_filenames_bounds['center'][0]],\n",
    "    zoom_start=6,\n",
    "    control_scale=True,\n",
    "    tiles='https://mt1.google.com/vt/lyrs=s&x={x}&y={y}&z={z}',\n",
    "    attr='Google'\n",
    ")\n",
    "\n",
    "folium_map.add_child(\n",
    "    get_overlay(\n",
    "        data_mask_rgb, data_filenames_bounds,\n",
    "        'data layer')#, opacity=0.6)\n",
    ")\n",
    "folium_map.add_child(\n",
    "    get_overlay(\n",
    "        landcover_mask_rgb, landcover_filenames_bounds,\n",
    "        'land cover mask', opacity=0.6, show=False)\n",
    ")\n",
    "\n",
    "pal_height_cmap = cm.LinearColormap(\n",
    "    colors=['black','#636363','#fc8d59','#fee08b','#ffffbf','#d9ef8b','#91cf60','#1a9850'], \n",
    "    vmin=0, vmax=50\n",
    ")\n",
    "\n",
    "folium_map.add_child(\n",
    "    get_overlay(\n",
    "        chm_mask_rgb, chm_filenames_bounds,\n",
    "        'chm mask', opacity=1.0, show=False, colormap=pal_height_cmap\n",
    "    )\n",
    ")\n",
    "\n",
    "popup = folium.Popup()\n",
    "folium.VegaLite(json.loads(chart.to_json()), width=\"100%\", height=\"100%\").add_to(popup)\n",
    "\n",
    "folium.Marker(\n",
    "    [\n",
    "        landcover_filenames_bounds['center'][1],\n",
    "        landcover_filenames_bounds['center'][0]\n",
    "    ],\n",
    "    popup=popup\n",
    ").add_to(folium_map)\n",
    "\n",
    "folium_map.add_child(plugins.Fullscreen())\n",
    "folium_map.add_child(plugins.Geocoder())\n",
    "folium_map.add_child(plugins.MousePosition())\n",
    "folium_map.add_child(folium.LayerControl())"
   ]
  },
  {
   "cell_type": "code",
   "execution_count": null,
   "id": "3cebdb15-a159-4a0f-ad5d-dfb00d321305",
   "metadata": {},
   "outputs": [],
   "source": [
    "data_filenames = sorted(glob(data_dir))\n",
    "landcover_filenames = sorted(glob(landcover_dir))\n",
    "chm_filenames = sorted(glob(chm_dir))\n",
    "print(len(data_filenames), len(landcover_filenames), len(chm_filenames))\n",
    "\n",
    "# Map the Layers\n",
    "map_figure = folium.Figure(width=1000, height=400)\n",
    "folium_map = folium.Map(\n",
    "    #[data_filenames_bounds['center'][1], data_filenames_bounds['center'][0]],\n",
    "    #zoom_start=6,\n",
    "    #control_scale=True,\n",
    "    #tiles='https://mt1.google.com/vt/lyrs=s&x={x}&y={y}&z={z}',\n",
    "    #attr='Google'\n",
    "    location=client.center(), zoom_start=16\n",
    ")\n",
    "\n",
    "#folium_map.add_child(\n",
    "#    #get_overlay(\n",
    "#    #    data_mask_rgb, data_filenames_bounds,\n",
    "#    #    'data layer')#, opacity=0.6)\n",
    "#    get_folium_tile_layer(TileClient(data_filenames[0]), attr='DataLayer')\n",
    "#)\n",
    "\n",
    "folium_map.add_child(\n",
    "    #get_overlay(\n",
    "    #    data_mask_rgb, data_filenames_bounds,\n",
    "    #    'data layer')#, opacity=0.6)\n",
    "    get_folium_tile_layer(TileClient(data_filenames[0]), attr='DataLayer')\n",
    ")\n",
    "\n",
    "\n",
    "\n",
    "#folium_map.add_child(\n",
    "#    get_overlay(\n",
    "#        landcover_mask_rgb, landcover_filenames_bounds,\n",
    "#        'land cover mask', opacity=0.6, show=False)\n",
    "#)\n",
    "\n",
    "#pal_height_cmap = cm.LinearColormap(\n",
    "#    colors=['black','#636363','#fc8d59','#fee08b','#ffffbf','#d9ef8b','#91cf60','#1a9850'], \n",
    "#    vmin=0, vmax=50\n",
    "#)\n",
    "\n",
    "#folium_map.add_child(\n",
    "#    get_overlay(\n",
    "#        chm_mask_rgb, chm_filenames_bounds,\n",
    "#        'chm mask', opacity=1.0, show=False, colormap=pal_height_cmap\n",
    "#    )\n",
    "#)\n",
    "\n",
    "#popup = folium.Popup()\n",
    "#folium.VegaLite(json.loads(chart.to_json()), width=\"100%\", height=\"100%\").add_to(popup)\n",
    "\n",
    "#folium.Marker(\n",
    "#    [\n",
    "#        data_filenames_bounds['center'][1],\n",
    "#        data_filenames_bounds['center'][0]\n",
    "#    ],\n",
    "#).add_to(folium_map)\n",
    "\n",
    "#folium_map.add_child(plugins.Fullscreen())\n",
    "#folium_map.add_child(plugins.Geocoder())\n",
    "#folium_map.add_child(plugins.MousePosition())\n",
    "#folium_map.add_child(folium.LayerControl())"
   ]
  },
  {
   "cell_type": "code",
   "execution_count": 6,
   "id": "009d7e5f-024a-43e3-8964-f272e5b514f7",
   "metadata": {},
   "outputs": [
    {
     "data": {
      "text/html": [
       "<div style=\"width:100%;\"><div style=\"position:relative;width:100%;height:0;padding-bottom:60%;\"><span style=\"color:#565656\">Make this Notebook Trusted to load map: File -> Trust Notebook</span><iframe src=\"about:blank\" style=\"position:absolute;width:100%;height:100%;left:0;top:0;border:none !important;\" data-html=%3C%21DOCTYPE%20html%3E%0A%3Chead%3E%20%20%20%20%0A%20%20%20%20%3Cmeta%20http-equiv%3D%22content-type%22%20content%3D%22text/html%3B%20charset%3DUTF-8%22%20/%3E%0A%20%20%20%20%0A%20%20%20%20%20%20%20%20%3Cscript%3E%0A%20%20%20%20%20%20%20%20%20%20%20%20L_NO_TOUCH%20%3D%20false%3B%0A%20%20%20%20%20%20%20%20%20%20%20%20L_DISABLE_3D%20%3D%20false%3B%0A%20%20%20%20%20%20%20%20%3C/script%3E%0A%20%20%20%20%0A%20%20%20%20%3Cstyle%3Ehtml%2C%20body%20%7Bwidth%3A%20100%25%3Bheight%3A%20100%25%3Bmargin%3A%200%3Bpadding%3A%200%3B%7D%3C/style%3E%0A%20%20%20%20%3Cstyle%3E%23map%20%7Bposition%3Aabsolute%3Btop%3A0%3Bbottom%3A0%3Bright%3A0%3Bleft%3A0%3B%7D%3C/style%3E%0A%20%20%20%20%3Cscript%20src%3D%22https%3A//cdn.jsdelivr.net/npm/leaflet%401.6.0/dist/leaflet.js%22%3E%3C/script%3E%0A%20%20%20%20%3Cscript%20src%3D%22https%3A//code.jquery.com/jquery-1.12.4.min.js%22%3E%3C/script%3E%0A%20%20%20%20%3Cscript%20src%3D%22https%3A//maxcdn.bootstrapcdn.com/bootstrap/3.2.0/js/bootstrap.min.js%22%3E%3C/script%3E%0A%20%20%20%20%3Cscript%20src%3D%22https%3A//cdnjs.cloudflare.com/ajax/libs/Leaflet.awesome-markers/2.0.2/leaflet.awesome-markers.js%22%3E%3C/script%3E%0A%20%20%20%20%3Clink%20rel%3D%22stylesheet%22%20href%3D%22https%3A//cdn.jsdelivr.net/npm/leaflet%401.6.0/dist/leaflet.css%22/%3E%0A%20%20%20%20%3Clink%20rel%3D%22stylesheet%22%20href%3D%22https%3A//maxcdn.bootstrapcdn.com/bootstrap/3.2.0/css/bootstrap.min.css%22/%3E%0A%20%20%20%20%3Clink%20rel%3D%22stylesheet%22%20href%3D%22https%3A//maxcdn.bootstrapcdn.com/bootstrap/3.2.0/css/bootstrap-theme.min.css%22/%3E%0A%20%20%20%20%3Clink%20rel%3D%22stylesheet%22%20href%3D%22https%3A//maxcdn.bootstrapcdn.com/font-awesome/4.6.3/css/font-awesome.min.css%22/%3E%0A%20%20%20%20%3Clink%20rel%3D%22stylesheet%22%20href%3D%22https%3A//cdnjs.cloudflare.com/ajax/libs/Leaflet.awesome-markers/2.0.2/leaflet.awesome-markers.css%22/%3E%0A%20%20%20%20%3Clink%20rel%3D%22stylesheet%22%20href%3D%22https%3A//cdn.jsdelivr.net/gh/python-visualization/folium/folium/templates/leaflet.awesome.rotate.min.css%22/%3E%0A%20%20%20%20%0A%20%20%20%20%20%20%20%20%20%20%20%20%3Cmeta%20name%3D%22viewport%22%20content%3D%22width%3Ddevice-width%2C%0A%20%20%20%20%20%20%20%20%20%20%20%20%20%20%20%20initial-scale%3D1.0%2C%20maximum-scale%3D1.0%2C%20user-scalable%3Dno%22%20/%3E%0A%20%20%20%20%20%20%20%20%20%20%20%20%3Cstyle%3E%0A%20%20%20%20%20%20%20%20%20%20%20%20%20%20%20%20%23map_ebac8c45d3144c5092f33f724d6e23b7%20%7B%0A%20%20%20%20%20%20%20%20%20%20%20%20%20%20%20%20%20%20%20%20position%3A%20relative%3B%0A%20%20%20%20%20%20%20%20%20%20%20%20%20%20%20%20%20%20%20%20width%3A%20100.0%25%3B%0A%20%20%20%20%20%20%20%20%20%20%20%20%20%20%20%20%20%20%20%20height%3A%20100.0%25%3B%0A%20%20%20%20%20%20%20%20%20%20%20%20%20%20%20%20%20%20%20%20left%3A%200.0%25%3B%0A%20%20%20%20%20%20%20%20%20%20%20%20%20%20%20%20%20%20%20%20top%3A%200.0%25%3B%0A%20%20%20%20%20%20%20%20%20%20%20%20%20%20%20%20%7D%0A%20%20%20%20%20%20%20%20%20%20%20%20%3C/style%3E%0A%20%20%20%20%20%20%20%20%0A%3C/head%3E%0A%3Cbody%3E%20%20%20%20%0A%20%20%20%20%0A%20%20%20%20%20%20%20%20%20%20%20%20%3Cdiv%20class%3D%22folium-map%22%20id%3D%22map_ebac8c45d3144c5092f33f724d6e23b7%22%20%3E%3C/div%3E%0A%20%20%20%20%20%20%20%20%0A%3C/body%3E%0A%3Cscript%3E%20%20%20%20%0A%20%20%20%20%0A%20%20%20%20%20%20%20%20%20%20%20%20var%20map_ebac8c45d3144c5092f33f724d6e23b7%20%3D%20L.map%28%0A%20%20%20%20%20%20%20%20%20%20%20%20%20%20%20%20%22map_ebac8c45d3144c5092f33f724d6e23b7%22%2C%0A%20%20%20%20%20%20%20%20%20%20%20%20%20%20%20%20%7B%0A%20%20%20%20%20%20%20%20%20%20%20%20%20%20%20%20%20%20%20%20center%3A%20%5B13.877106412781227%2C%20-14.826134797396612%5D%2C%0A%20%20%20%20%20%20%20%20%20%20%20%20%20%20%20%20%20%20%20%20crs%3A%20L.CRS.EPSG3857%2C%0A%20%20%20%20%20%20%20%20%20%20%20%20%20%20%20%20%20%20%20%20zoom%3A%2016%2C%0A%20%20%20%20%20%20%20%20%20%20%20%20%20%20%20%20%20%20%20%20zoomControl%3A%20true%2C%0A%20%20%20%20%20%20%20%20%20%20%20%20%20%20%20%20%20%20%20%20preferCanvas%3A%20false%2C%0A%20%20%20%20%20%20%20%20%20%20%20%20%20%20%20%20%7D%0A%20%20%20%20%20%20%20%20%20%20%20%20%29%3B%0A%0A%20%20%20%20%20%20%20%20%20%20%20%20%0A%0A%20%20%20%20%20%20%20%20%0A%20%20%20%20%0A%20%20%20%20%20%20%20%20%20%20%20%20var%20tile_layer_4c56147116584fbeb8d38c170ec773dc%20%3D%20L.tileLayer%28%0A%20%20%20%20%20%20%20%20%20%20%20%20%20%20%20%20%22https%3A//%7Bs%7D.tile.openstreetmap.org/%7Bz%7D/%7Bx%7D/%7By%7D.png%22%2C%0A%20%20%20%20%20%20%20%20%20%20%20%20%20%20%20%20%7B%22attribution%22%3A%20%22Data%20by%20%5Cu0026copy%3B%20%5Cu003ca%20href%3D%5C%22http%3A//openstreetmap.org%5C%22%5Cu003eOpenStreetMap%5Cu003c/a%5Cu003e%2C%20under%20%5Cu003ca%20href%3D%5C%22http%3A//www.openstreetmap.org/copyright%5C%22%5Cu003eODbL%5Cu003c/a%5Cu003e.%22%2C%20%22detectRetina%22%3A%20false%2C%20%22maxNativeZoom%22%3A%2018%2C%20%22maxZoom%22%3A%2018%2C%20%22minZoom%22%3A%200%2C%20%22noWrap%22%3A%20false%2C%20%22opacity%22%3A%201%2C%20%22subdomains%22%3A%20%22abc%22%2C%20%22tms%22%3A%20false%7D%0A%20%20%20%20%20%20%20%20%20%20%20%20%29.addTo%28map_ebac8c45d3144c5092f33f724d6e23b7%29%3B%0A%20%20%20%20%20%20%20%20%0A%20%20%20%20%0A%20%20%20%20%20%20%20%20%20%20%20%20var%20tile_layer_0dfc72d750af466d85f335999b586110%20%3D%20L.tileLayer%28%0A%20%20%20%20%20%20%20%20%20%20%20%20%20%20%20%20%22/jupyterhub-prism/user/jacaraba//proxy/36445/api/tiles/%7Bz%7D/%7Bx%7D/%7By%7D.png%3F%5Cu0026filename%3D%252Fadapt%252Fnobackup%252Fprojects%252Filab%252Fprojects%252FSenegal%252F3sl%252Fproducts%252Fland_cover%252Fdev%252Fexperiments%252Fotcb.all%252FETZ%252FWV03_20170207_M1BS_10400100271ED400-toa.otcb.tif%5Cu0026n_colors%3D255%5Cu0026projection%3DEPSG%253A3857%22%2C%0A%20%20%20%20%20%20%20%20%20%20%20%20%20%20%20%20%7B%22attribution%22%3A%20%22Raster%20file%20served%20by%20%5Cu003ca%20href%3D%5Cu0027https%3A//github.com/banesullivan/localtileserver%5Cu0027%20target%3D%5Cu0027_blank%5Cu0027%5Cu003elocaltileserver%5Cu003c/a%5Cu003e.%22%2C%20%22detectRetina%22%3A%20false%2C%20%22maxNativeZoom%22%3A%2018%2C%20%22maxZoom%22%3A%2018%2C%20%22minZoom%22%3A%200%2C%20%22noWrap%22%3A%20false%2C%20%22opacity%22%3A%201%2C%20%22subdomains%22%3A%20%22abc%22%2C%20%22tms%22%3A%20false%7D%0A%20%20%20%20%20%20%20%20%20%20%20%20%29.addTo%28map_ebac8c45d3144c5092f33f724d6e23b7%29%3B%0A%20%20%20%20%20%20%20%20%0A%3C/script%3E onload=\"this.contentDocument.open();this.contentDocument.write(    decodeURIComponent(this.getAttribute('data-html')));this.contentDocument.close();\" allowfullscreen webkitallowfullscreen mozallowfullscreen></iframe></div></div>"
      ],
      "text/plain": [
       "<folium.folium.Map at 0x147a0607d050>"
      ]
     },
     "execution_count": 6,
     "metadata": {},
     "output_type": "execute_result"
    }
   ],
   "source": [
    "# First, create a tile server from local raster file\n",
    "client = TileClient('/adapt/nobackup/projects/ilab/projects/Senegal/3sl/products/land_cover/dev/experiments/otcb.all/ETZ/WV03_20170207_M1BS_10400100271ED400-toa.otcb.tif')\n",
    "#client = TileClient('/adapt/nobackup/projects/3sl/data/Tappan/Tappan24_WV03_20171001_M1BS_1040010034837400_data.tif')\n",
    "# client = examples.get_oam2()  # use example data\n",
    "\n",
    "# Create folium tile layer from that server\n",
    "t = get_folium_tile_layer(client)\n",
    "\n",
    "m = folium.Map(location=client.center(), zoom_start=16)\n",
    "m.add_child(t)\n",
    "m"
   ]
  },
  {
   "cell_type": "code",
   "execution_count": null,
   "id": "891231c7-f3a5-4955-9394-1849990eefdc",
   "metadata": {},
   "outputs": [],
   "source": [
    "#chm_mask_rgb.shape"
   ]
  },
  {
   "cell_type": "code",
   "execution_count": null,
   "id": "eac77c64-5dba-4a49-953c-44c582aa1b54",
   "metadata": {},
   "outputs": [],
   "source": [
    "#from localtileserver import get_leaflet_tile_layer, TileClient\n",
    "#from ipyleaflet import Map\n",
    "# First, create a tile server from local raster file\n",
    "#client = TileClient('/adapt/nobackup/projects/ilab/projects/Senegal/3sl/products/land_cover/dev/experiments/otcb.all/ETZ/WV03_20170207_M1BS_10400100271ED400-toa.otcb.tif')\n",
    "# Create ipyleaflet tile layer from that server\n",
    "#t = get_leaflet_tile_layer(client)\n",
    "#m = Map(center=client.center(), zoom=client.default_zoom)\n",
    "#m.add_layer(t)\n",
    "#m"
   ]
  },
  {
   "cell_type": "code",
   "execution_count": null,
   "id": "4f622459-4cb7-419d-a040-8b1bc19bb6dc",
   "metadata": {},
   "outputs": [],
   "source": [
    "#from localtileserver import get_folium_tile_layer, TileClient, examples\n",
    "#from folium import Map\n",
    "\n",
    "# First, create a tile server from local raster file\n",
    "# client = TileClient('/adapt/nobackup/projects/ilab/projects/Senegal/3sl/products/land_cover/dev/experiments/otcb.all/ETZ/WV03_20170207_M1BS_10400100271ED400-toa.otcb.tif')\n",
    "#client = TileClient('/adapt/nobackup/projects/3sl/data/Tappan/Tappan24_WV03_20171001_M1BS_1040010034837400_data.tif', port=33000)\n",
    "# client = examples.get_oam2()  # use example data\n",
    "\n",
    "# Create folium tile layer from that server\n",
    "#t = get_folium_tile_layer(client)\n",
    "\n",
    "#m = Map(location=client.center(), zoom_start=16)\n",
    "#m.add_child(t)\n",
    "#m"
   ]
  },
  {
   "cell_type": "code",
   "execution_count": null,
   "id": "b2ab3e95-e65f-4d7a-9e8f-9591eba84cc8",
   "metadata": {},
   "outputs": [],
   "source": [
    "#import localtileserver\n",
    "#print(localtileserver.Report())"
   ]
  },
  {
   "cell_type": "code",
   "execution_count": null,
   "id": "648ba63d-2a84-4ec4-bf47-713611a6866c",
   "metadata": {},
   "outputs": [],
   "source": [
    "#import os\n",
    "#os.environ['LOCALTILESERVER_CLIENT_PREFIX'] = \\\n",
    "#    f\"{os.environ['JUPYTERHUB_SERVICE_PREFIX'].lstrip('/')}/proxy/{{port}}\"\n",
    "#LOCALTILESERVER_CLIENT_PREFIX='proxy/{port}'\n",
    "#LOCALTILESERVER_CLIENT_HOST=127.0.0.1\n",
    "#LOCALTILESERVER_CLIENT_PORT=8888"
   ]
  },
  {
   "cell_type": "code",
   "execution_count": null,
   "id": "1efb7e30-70c9-4b05-9852-19e0a9807652",
   "metadata": {},
   "outputs": [],
   "source": [
    "#from localtileserver import get_folium_tile_layer, TileClient, examples\n",
    "#from folium import Map\n",
    "\n",
    "# First, create a tile server from local raster file\n",
    "#client = TileClient('/adapt/nobackup/projects/ilab/projects/Senegal/3sl/products/land_cover/dev/experiments/otcb.all/ETZ/WV03_20170207_M1BS_10400100271ED400-toa.otcb.tif')\n",
    "#client = TileClient('/adapt/nobackup/projects/3sl/data/Tappan/Tappan24_WV03_20171001_M1BS_1040010034837400_data.tif')\n",
    "# client = examples.get_oam2()  # use example data\n",
    "\n",
    "# Create folium tile layer from that server\n",
    "#t = get_folium_tile_layer(client)\n",
    "#m = Map(location=client.center(), zoom_start=16)\n",
    "#m.add_child(t)\n",
    "#m"
   ]
  },
  {
   "cell_type": "code",
   "execution_count": null,
   "id": "4550225b-5acc-4ddb-a508-def7a5eb5800",
   "metadata": {},
   "outputs": [],
   "source": []
  }
 ],
 "metadata": {
  "kernelspec": {
   "display_name": "Python 3 (ipykernel)",
   "language": "python",
   "name": "python3"
  },
  "language_info": {
   "codemirror_mode": {
    "name": "ipython",
    "version": 3
   },
   "file_extension": ".py",
   "mimetype": "text/x-python",
   "name": "python",
   "nbconvert_exporter": "python",
   "pygments_lexer": "ipython3",
   "version": "3.10.6"
  }
 },
 "nbformat": 4,
 "nbformat_minor": 5
}
