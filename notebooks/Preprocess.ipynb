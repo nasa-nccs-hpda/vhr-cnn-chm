{
 "cells": [
  {
   "cell_type": "markdown",
   "id": "2f3b4e44-3294-4913-8aff-6dc9a79ca240",
   "metadata": {},
   "source": [
    "# Preprocessing\n",
    "\n",
    "The preprocessing steps are as follow:\n",
    "- Read ATL08 points as GDF\n",
    "- \n",
    "\n",
    "TODO:\n",
    "  - Fix shapely deprecation warning (ShapelyDeprecationWarning: The array interface is deprecated and will no longer work in Shapely 2.0. Convert the '.coords' to a numpy array instead.)"
   ]
  },
  {
   "cell_type": "code",
   "execution_count": 3,
   "id": "c8cba246-b4d6-4481-8bf4-99804af40cf0",
   "metadata": {},
   "outputs": [],
   "source": [
    "import os\n",
    "import time\n",
    "import glob\n",
    "import logging\n",
    "import fiona\n",
    "import rasterio\n",
    "import numpy as np\n",
    "import pandas as pd\n",
    "import xarray as xr\n",
    "import rioxarray as rxr\n",
    "import geopandas as gpd\n",
    "import shapely.speedups\n",
    "from omegaconf import OmegaConf\n",
    "from omegaconf.listconfig import ListConfig\n",
    "from multiprocessing import Pool, cpu_count\n",
    "\n",
    "# import cuspatial\n",
    "import tensorflow as tf\n",
    "from pathlib import Path\n",
    "from shapely.geometry import box\n",
    "from skimage.transform import resize\n",
    "from sklearn.model_selection import train_test_split\n",
    "from tensorflow.keras.optimizers import Adam\n",
    "from sklearn.metrics import mean_squared_error\n",
    "\n",
    "# from .geoscitools.atl08lib import atl08_io\n",
    "# from .cnn_model import get_2d_cnn_tf\n",
    "# from tensorflow_caney.inference.regression_inference import \\\n",
    "#     sliding_window_tiler\n",
    "\n",
    "shapely.speedups.enable()"
   ]
  },
  {
   "cell_type": "markdown",
   "id": "75b13258-49c9-485d-b6c7-bb5043176e0a",
   "metadata": {},
   "source": [
    "## 1. Set Configuration Object\n",
    "\n",
    "This can be done from a yaml file, or from a dictionary. In here we choose to have a single dictionary for ease of notebook development."
   ]
  },
  {
   "cell_type": "code",
   "execution_count": 11,
   "id": "19fc80b6-7816-4ebe-96ec-f25be8db639a",
   "metadata": {},
   "outputs": [],
   "source": [
    "conf = OmegaConf.create(\n",
    "    {\n",
    "        \"experiment_type\": \"2m_chm\",\n",
    "        \"general_crs\": \"EPSG:32628\",\n",
    "        \"atl08_dir\" : \"/adapt/nobackup/people/pmontesa/userfs02/data/icesat2/atl08.005/senegal\",\n",
    "        \"atl08_start_year\": 2018,\n",
    "        \"atl08_end_year\": 2022,\n",
    "        \"wv_data_regex\" : [\n",
    "            '/adapt/nobackup/people/mwooten3/Senegal_LCLUC/VHR/CAS/M1BS/*.tif',\n",
    "            '/adapt/nobackup/people/mwooten3/Senegal_LCLUC/VHR/ETZ/M1BS/*.tif',\n",
    "            '/adapt/nobackup/people/mwooten3/Senegal_LCLUC/VHR/SRV/M1BS/*.tif'\n",
    "        ],\n",
    "        \"intersection_output_dir\": '/adapt/nobackup/projects/ilab/projects/Senegal/CNN_CHM/intersection_metadata_evhrtoa',\n",
    "        \"tiles_output_dir\": '/adapt/nobackup/projects/ilab/projects/Senegal/CNN_CHM/intersection_tiles_evhrtoa',\n",
    "        \"tile_buffer\": 520, \n",
    "        \"model_filename\": '/adapt/nobackup/projects/ilab/projects/Senegal/CNN_CHM/model/22-27.97.hdf5',\n",
    "        \"inference_regex\": '/adapt/nobackup/people/mcarrol2/LCLUC_Senegal/ForKonrad/Tappan01_WV02_20110430_M1BS_103001000A27E100_data.tif',\n",
    "        \"inference_save_dir\": '/adapt/nobackup/people/jacaraba/development/vhr-cnn-chm/data/cnn_chm_v1'\n",
    "    }\n",
    ")"
   ]
  },
  {
   "cell_type": "markdown",
   "id": "59078f91-4324-4f19-93af-99f5e0727882",
   "metadata": {},
   "source": [
    "## 2. Read ATL08 points\n",
    "\n",
    "In this section "
   ]
  },
  {
   "cell_type": "code",
   "execution_count": 14,
   "id": "870f1126-ca03-4276-bb93-a42337623909",
   "metadata": {},
   "outputs": [],
   "source": [
    "def atl08_io(atl08_csv_output_dir, year_search, do_pickle=True):\n",
    "    '''Read all ATL08 from CSVs of a given year after extract_filter_atl08.py\n",
    "        Write to a pickle file by year\n",
    "        Return a geodataframe\n",
    "    '''\n",
    "    dir_pickle = atl08_csv_output_dir\n",
    "    # print(\"Building list of ATL08 csvs...\")\n",
    "\n",
    "    all_atl08_csvs = glob.glob(\n",
    "        os.path.join(\n",
    "            atl08_csv_output_dir, year_search, 'ATL08*100m.csv'\n",
    "        ), recursive=True\n",
    "    )\n",
    "\n",
    "    atl08_gdf = pd.concat(\n",
    "        (pd.read_csv(f) for f in all_atl08_csvs),\n",
    "        sort=False, ignore_index=True)  # <--generator is (), list is []\n",
    "\n",
    "    atl08_gdf = gpd.GeoDataFrame(\n",
    "        atl08_gdf, geometry=gpd.points_from_xy(\n",
    "            atl08_gdf.lon, atl08_gdf.lat), crs='epsg:4326')\n",
    "\n",
    "    if do_pickle:\n",
    "        # Pickle the file\n",
    "        if year_search == \"**\":\n",
    "            year_search = 'allyears'\n",
    "        cur_time = time.strftime(\"%Y%m%d%H%M\")\n",
    "        out_pickle_fn = os.path.join(\n",
    "            dir_pickle, f\"atl08_{year_search}_filt_gdf_{cur_time}.pkl\")\n",
    "        atl08_gdf.to_pickle(out_pickle_fn)\n",
    "    return atl08_gdf\n",
    "\n",
    "def get_atl08_gdf(\n",
    "            data_dir: str,\n",
    "            start_year: int = 2018,\n",
    "            end_year: int = 2022,\n",
    "            reset_index: bool = True,\n",
    "            crs: str = None\n",
    "        ):\n",
    "    \"\"\"\n",
    "    Get ATL08 from extracted CSVs.\n",
    "    \"\"\"\n",
    "    # --------------------------------\n",
    "    # TODO, add GPU component here\n",
    "    # --------------------------------\n",
    "    atl08_gdf = pd.concat([\n",
    "        atl08_io(data_dir, str(year), do_pickle=False)\n",
    "        for year in range(start_year, end_year)\n",
    "    ])\n",
    "\n",
    "    if crs is not None:\n",
    "        atl08_gdf = atl08_gdf.to_crs(epsg=crs.split(':')[-1])\n",
    "    return atl08_gdf.reset_index(drop=True)"
   ]
  },
  {
   "cell_type": "code",
   "execution_count": 16,
   "id": "583ad489-d42a-4124-8b08-83ef59ae1e0c",
   "metadata": {},
   "outputs": [
    {
     "name": "stderr",
     "output_type": "stream",
     "text": [
      "/gpfsm/ccds01/home/appmgr/app/jupyterhub/ilab/kernel/lib/python3.7/site-packages/geopandas/array.py:275: ShapelyDeprecationWarning: The array interface is deprecated and will no longer work in Shapely 2.0. Convert the '.coords' to a numpy array instead.\n",
      "  return GeometryArray(vectorized.points_from_xy(x, y, z), crs=crs)\n",
      "/gpfsm/ccds01/home/appmgr/app/jupyterhub/ilab/kernel/lib/python3.7/site-packages/geopandas/array.py:275: ShapelyDeprecationWarning: The array interface is deprecated and will no longer work in Shapely 2.0. Convert the '.coords' to a numpy array instead.\n",
      "  return GeometryArray(vectorized.points_from_xy(x, y, z), crs=crs)\n",
      "/gpfsm/ccds01/home/appmgr/app/jupyterhub/ilab/kernel/lib/python3.7/site-packages/geopandas/array.py:275: ShapelyDeprecationWarning: The array interface is deprecated and will no longer work in Shapely 2.0. Convert the '.coords' to a numpy array instead.\n",
      "  return GeometryArray(vectorized.points_from_xy(x, y, z), crs=crs)\n",
      "/gpfsm/ccds01/home/appmgr/app/jupyterhub/ilab/kernel/lib/python3.7/site-packages/geopandas/array.py:275: ShapelyDeprecationWarning: The array interface is deprecated and will no longer work in Shapely 2.0. Convert the '.coords' to a numpy array instead.\n",
      "  return GeometryArray(vectorized.points_from_xy(x, y, z), crs=crs)\n"
     ]
    },
    {
     "name": "stdout",
     "output_type": "stream",
     "text": [
      "Load ATL08 GDF files, 112401 rows.\n"
     ]
    }
   ],
   "source": [
    "# Read ATL08 points\n",
    "atl08_gdf = get_atl08_gdf(\n",
    "    conf.atl08_dir,\n",
    "    conf.atl08_start_year,\n",
    "    conf.atl08_end_year,\n",
    "    crs=conf.general_crs\n",
    ")\n",
    "print(f'Load ATL08 GDF files, {atl08_gdf.shape[0]} rows.')"
   ]
  },
  {
   "cell_type": "code",
   "execution_count": null,
   "id": "5c10e3ab-62a5-4834-93f1-9d27a0d746ed",
   "metadata": {},
   "outputs": [],
   "source": []
  }
 ],
 "metadata": {
  "kernelspec": {
   "display_name": "Python 3 (ipykernel)",
   "language": "python",
   "name": "python3"
  },
  "language_info": {
   "codemirror_mode": {
    "name": "ipython",
    "version": 3
   },
   "file_extension": ".py",
   "mimetype": "text/x-python",
   "name": "python",
   "nbconvert_exporter": "python",
   "pygments_lexer": "ipython3",
   "version": "3.10.6"
  }
 },
 "nbformat": 4,
 "nbformat_minor": 5
}
